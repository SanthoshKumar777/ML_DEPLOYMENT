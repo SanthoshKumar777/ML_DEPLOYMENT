{
 "cells": [
  {
   "cell_type": "code",
   "execution_count": 474,
   "metadata": {},
   "outputs": [],
   "source": [
    "from array import array\n",
    "import heapq\n",
    "from queue import Queue\n",
    "import numpy as np\n",
    "import matplotlib.pyplot as plt\n",
    "import pandas as pd"
   ]
  },
  {
   "cell_type": "markdown",
   "metadata": {},
   "source": [
    "**Q1. Write a Python program to get the string from the given string where<br>\n",
    "all the occurrence of its first char has been changed to `'$'`, except first char itself?**<br>\n",
    "**Sample String**: 'prospect'<br>\n",
    "**Expected Result** : 'pros$ect'<br>\n"
   ]
  },
  {
   "cell_type": "code",
   "execution_count": null,
   "metadata": {},
   "outputs": [],
   "source": [
    "x = input(\"Enter String:\\t\")\n",
    "output = x[0]+''.join([i if i!=x[0] else '$' for i in x][1:])\n",
    "x = print(f\"Expected Result:\\t{output}\")"
   ]
  },
  {
   "cell_type": "markdown",
   "metadata": {},
   "source": [
    "***"
   ]
  },
  {
   "cell_type": "markdown",
   "metadata": {},
   "source": [
    "**Q2. Write a Python program to get the single string from the two given\n",
    "strings, and separated by the space and swap the first two characters of\n",
    "each string?**<br>\n",
    "**Sample String :** 'abc', 'xyz'.<br>\n",
    "**Expected Result:** 'xyc abz'\n"
   ]
  },
  {
   "cell_type": "code",
   "execution_count": null,
   "metadata": {},
   "outputs": [],
   "source": [
    "x = (input(\"Enter String:\\t\")).split(', ')\n",
    "output_string = \"\"\n",
    "for i in range(len(x)):# acessing list elements\n",
    "    for j in range(len(x[(i+1)%2])): # using(i+1)%2 to toggle between string1 tp string2 and vice versa\n",
    "        if j < len(x[(i+1)%2])-1:\n",
    "            output_string += x[(i+1)%2][j] # storing string2 char's while acessing string1 and vice versa\n",
    "        else:\n",
    "            output_string += x[i][-1] # last char of string1 while acessign string2 and vice versa\n",
    "            output_string += \" \"\n",
    "print(f\"Expected Result:\\t {output_string}\")"
   ]
  },
  {
   "cell_type": "markdown",
   "metadata": {},
   "source": [
    "***"
   ]
  },
  {
   "cell_type": "markdown",
   "metadata": {},
   "source": [
    "**Q3. Write the Python program to add `'ing'` at the end of the given string\n",
    "(length of the string should be at least 3). If given string already ends\n",
    "with `'ing'`, then add `'ly'` instead. If string length of the given string is less\n",
    "than 3, leave it unchanged?**<br>\n",
    "**Sample string:** ' abc ' <br>\n",
    "**Expected result:** ' abcing '<br>\n",
    "**Sample string:** ' string '<br>\n",
    "**Expected result:** ' stringly '<br>\n"
   ]
  },
  {
   "cell_type": "code",
   "execution_count": null,
   "metadata": {},
   "outputs": [],
   "source": [
    "def string_addon(string):\n",
    "    if len(string) < 3:\n",
    "        return string\n",
    "    elif string[-3:]=='ing':\n",
    "        return string+'ly'\n",
    "    else:\n",
    "        return string+'ing'"
   ]
  },
  {
   "cell_type": "code",
   "execution_count": null,
   "metadata": {},
   "outputs": [],
   "source": [
    "print('='*30)\n",
    "print(f'case 1:\\t')\n",
    "input1 ='act' # input \"act\"\n",
    "print(f'\\t input: {input1}\\n')\n",
    "print(f'\\t output: {string_addon(input1)}\\n')\n",
    "print('='*30)\n",
    "\n",
    "print(f\"case 2:\\t\")\n",
    "input2 = 'acting' #input \"acting\"\n",
    "print(f'\\t input: {input2}\\n')\n",
    "print(f'\\t output: {string_addon(input2)}\\n')\n",
    "print('='*30)\n",
    "\n",
    "print(f\"case 3:\\t\")\n",
    "input3 = 'ac' #input \"ac\"\n",
    "print(f'\\t input: {input3}\\n')\n",
    "print(f'\\t output: {string_addon(input3)}\\n')\n",
    "print('='*30)"
   ]
  },
  {
   "cell_type": "markdown",
   "metadata": {},
   "source": [
    "**Q4. Write the Python program to find the first appearance of the\n",
    "substring 'not' and 'poor' from the given string, if 'not' follows the 'poor',\n",
    "replace the whole 'not'...' poor' substring with 'good'.Return the resulting\n",
    "string.**<br>\n",
    "**Sample string:** 'The lyrics are not that poor!'<br>\n",
    "'The lyrics are poor!'<br>\n",
    "**Expected Result:** 'The lyrics are good!'<br>\n",
    "'The lyrics are poor!'<br>\n"
   ]
  },
  {
   "cell_type": "code",
   "execution_count": null,
   "metadata": {},
   "outputs": [],
   "source": [
    "def string_not_poor(input_string):\n",
    "    if 'not' in input_string:\n",
    "        if 'poor' in input_string:\n",
    "            not_index = input_string.find(\"not\") #string.find(sub_string) return starting index of substring or -1\n",
    "            poor_index = input_string.find(\"poor\")\n",
    "            if poor_index - not_index > 0: # this indecates not follows the poor\n",
    "                output = input_string[:not_index] \n",
    "                return output + \"good!\"         \n",
    "            else:\n",
    "                input_string\n",
    "        else:\n",
    "            return input_string\n",
    "    else:\n",
    "        return input_string\n",
    "    "
   ]
  },
  {
   "cell_type": "code",
   "execution_count": null,
   "metadata": {},
   "outputs": [],
   "source": [
    "print('='*30)\n",
    "print(f'case 1:\\t')\n",
    "input1 ='you are not that poor!' # input \"act\"\n",
    "print(f'\\t input: {input1}\\n')\n",
    "print(f'\\t output: {string_not_poor(input1)}\\n')\n",
    "print('='*30)\n",
    "\n",
    "print(f'case 1:\\t')\n",
    "input2 ='you are poor!' # input \"act\"\n",
    "print(f'\\t input: {input2}\\n')\n",
    "print(f'\\t output: {string_not_poor(input2)}\\n')\n",
    "print('='*30)"
   ]
  },
  {
   "cell_type": "markdown",
   "metadata": {},
   "source": [
    "***"
   ]
  },
  {
   "cell_type": "markdown",
   "metadata": {},
   "source": [
    "**Q5. Write the Python program to remove the characters which have odd\n",
    "index values of a given string.**\n"
   ]
  },
  {
   "cell_type": "code",
   "execution_count": null,
   "metadata": {},
   "outputs": [],
   "source": [
    "input_string = \"indians\"\n",
    "output_string = ''.join([char for i,char in enumerate(input_string) if (i%2==0)])\n",
    "print(f'\\t input: {input_string}\\n')\n",
    "print(f'\\t output: {output_string}')"
   ]
  },
  {
   "cell_type": "markdown",
   "metadata": {},
   "source": [
    "***"
   ]
  },
  {
   "cell_type": "markdown",
   "metadata": {},
   "source": [
    "**Q6. Write the Python function to get a string made of 4 copies of the last\n",
    "two characters of the specified string (length must be at least 2).\n",
    "Sample function and result :**<br>\n",
    "**insert-end ('Python')** -> abababab<br>\n",
    "**insert-end('Exercises')** -> jkjkjkjk\n"
   ]
  },
  {
   "cell_type": "markdown",
   "metadata": {},
   "source": [
    "***"
   ]
  },
  {
   "cell_type": "markdown",
   "metadata": {},
   "source": [
    "**Q7. Write the python function to get a string made of its first three\n",
    "characters of a specified string. If the length of the string is less than 3\n",
    "then return the original string.**<br>\n",
    "**Sample function and result :**\n",
    "**first-three('ipy')** -> ipy<br>\n",
    "**first-three('python')** -> pyt<br>"
   ]
  },
  {
   "cell_type": "code",
   "execution_count": null,
   "metadata": {},
   "outputs": [],
   "source": [
    "def first_three(input_string):\n",
    "    if len(input_string) <= 3:\n",
    "        return input_string\n",
    "    return input_string[:3]"
   ]
  },
  {
   "cell_type": "code",
   "execution_count": null,
   "metadata": {},
   "outputs": [],
   "source": [
    "print('='*30)\n",
    "print(f'case 1:\\t')\n",
    "input1 ='machine learning' \n",
    "print(f'\\t input: {input1}\\n')\n",
    "print(f'\\t output: {first_three(input1)}\\n')\n",
    "print('='*30)\n",
    "\n",
    "print(f'case 2:\\t')\n",
    "input2 ='hai' \n",
    "print(f'\\t input: {input2}\\n')\n",
    "print(f'\\t output: {first_three(input2)}\\n')\n",
    "print('='*30)"
   ]
  },
  {
   "cell_type": "markdown",
   "metadata": {},
   "source": [
    "**Q8. Write the python program to print the following floating numbers up\n",
    "to 2 decimal places?**"
   ]
  },
  {
   "cell_type": "code",
   "execution_count": null,
   "metadata": {},
   "outputs": [],
   "source": [
    "input_float = 1.5285\n",
    "print(f'actual value = {input_float}')\n",
    "print(f'precisoned value = {input_float:.2f}')"
   ]
  },
  {
   "cell_type": "markdown",
   "metadata": {},
   "source": [
    "**Q9. Write the Python program to format a number with a percentage?**"
   ]
  },
  {
   "cell_type": "code",
   "execution_count": null,
   "metadata": {},
   "outputs": [],
   "source": [
    "input_int = 15\n",
    "print(f'actual value = {input_int}')\n",
    "print(f\"percentage value = {str(input_int)+'%'}\")"
   ]
  },
  {
   "cell_type": "markdown",
   "metadata": {},
   "source": [
    "**Q10. Write the Python program to count occurrences of a substring in a\n",
    "String?**"
   ]
  },
  {
   "cell_type": "code",
   "execution_count": null,
   "metadata": {},
   "outputs": [],
   "source": [
    "def count_occur(input_string, substring):\n",
    "    if substring in input_string:\n",
    "        count = 0;\n",
    "        list_of_substrings = input_string.split(\" \")\n",
    "        for i in list_of_substrings:\n",
    "            if i==substring:\n",
    "                count+=1\n",
    "        return count\n",
    "    return -1 # when substring doesn;t occur then returns -1"
   ]
  },
  {
   "cell_type": "code",
   "execution_count": null,
   "metadata": {},
   "outputs": [],
   "source": [
    "print('='*30)\n",
    "print(f'case 1:\\t')\n",
    "input1 ='we the people by the people for the people' # input \n",
    "substring1 = \"people\"\n",
    "print(f'\\t input: {input1}\\n')\n",
    "print(f'\\t substring: {substring1}\\n')\n",
    "print(f'\\t occurance: {count_occur(input1, substring1)} counts\\n')\n",
    "print('='*30)\n",
    "\n",
    "print(f'case 2:\\t')\n",
    "input2 ='we the people by the people for the people' # input \n",
    "substring2 = \"india\"\n",
    "print(f'\\t input: {input2}\\n')\n",
    "print(f'\\t substring: {substring2}\\n')\n",
    "print(f'\\t occurance: {count_occur(input2, substring2)} counts\\n')\n",
    "print('='*30)"
   ]
  },
  {
   "cell_type": "markdown",
   "metadata": {},
   "source": [
    "**Q11. Write the Python program to count repeated characters in a string.**<br>\n",
    "**Sample string:** ' thequickbrownjumpsoverthelazydog '<br>\n",
    "**Expected output:**<br>\n",
    "o 3<br>\n",
    "e 3<br>\n",
    "u 2<br>\n",
    "h 2<br>\n",
    "r 2<br>\n",
    "t 2<br>"
   ]
  },
  {
   "cell_type": "code",
   "execution_count": null,
   "metadata": {},
   "outputs": [],
   "source": [
    "def occur_count_char(input_string):\n",
    "    count_dict = {}\n",
    "    \n",
    "    # to makedictionary which contains occurances of each cahracter\n",
    "    for char in input_string[:]:\n",
    "        if char not in count_dict.keys():\n",
    "            count_dict[char] = 1;\n",
    "        else:\n",
    "            count_dict[char] += 1;\n",
    "            \n",
    "    # sort dictionary values\n",
    "    sorted_out = sorted(count_dict.items(), key= lambda kv:kv[1], reverse=True)\n",
    "    \n",
    "    # printing cahraters which are not equal to 1\n",
    "    print(\"repeated characters:\\n\")\n",
    "    for i in range(len(sorted_out)):\n",
    "        if sorted_out[i][1] != 1:\n",
    "            print(f\"\\t{sorted_out[i][0]} {sorted_out[i][1]}\")\n",
    "        else:\n",
    "            break\n",
    "    "
   ]
  },
  {
   "cell_type": "code",
   "execution_count": null,
   "metadata": {},
   "outputs": [],
   "source": [
    "print('='*30)\n",
    "input1 = \"weareindiansandwearestrong\"\n",
    "print(f\"input string: \\t{input1}\\n\")\n",
    "print(\"output:\")\n",
    "occur_count_char(input1)"
   ]
  },
  {
   "cell_type": "markdown",
   "metadata": {},
   "source": [
    "***"
   ]
  },
  {
   "cell_type": "markdown",
   "metadata": {},
   "source": [
    "**Q12. Write the Python program to print the square and cube symbol in\n",
    "the area of a rectangle and volume of a cylinder?<br>\n",
    "Sample output-**<br>\n",
    "The area of the rectangle is 1256.66cm2<br>\n",
    "The volume of the cylinder is 1254.725cm3<br>\n"
   ]
  },
  {
   "cell_type": "code",
   "execution_count": null,
   "metadata": {},
   "outputs": [],
   "source": [
    "area = 1256.6625\n",
    "volume = 1254.725\n",
    "decimals = 2\n",
    "print(f\"The area of the rectangle is {area:.2f}cm\\u00b2\")\n",
    "print(f\"The volume of the cylinder is {volume:.3f}cm\\u00b3\")"
   ]
  },
  {
   "cell_type": "markdown",
   "metadata": {},
   "source": [
    "***"
   ]
  },
  {
   "cell_type": "markdown",
   "metadata": {},
   "source": [
    "**Q13. Write the Python program to check if a string contains all letters of\n",
    "the alphabet?**"
   ]
  },
  {
   "cell_type": "code",
   "execution_count": null,
   "metadata": {},
   "outputs": [],
   "source": [
    "def check_alphabets(input_string):\n",
    "    alphabets = \"abcdefghijklmnopqrstuvwxyz\"\n",
    "    for char in input_string:\n",
    "        if char not in alphabets:\n",
    "            return \"False, not contain all characters of alphabets!\"\n",
    "    return \"True, contains all characters\""
   ]
  },
  {
   "cell_type": "code",
   "execution_count": null,
   "metadata": {},
   "outputs": [],
   "source": [
    "print('='*30)\n",
    "print(f'case 1:\\t')\n",
    "input1 ='zyxwvutsrqponmlkjihgfedcba' # input \n",
    "print(f'\\t input: {input1}\\n')\n",
    "print(f'\\t output: {check_alphabets(input1)}\\n')\n",
    "print('='*30)\n",
    "\n",
    "print(f'case 2:\\t')\n",
    "input2 ='we the people by the people for the people' # input \n",
    "print(f'\\t input: {input2}\\n')\n",
    "print(f'\\t output: {check_alphabets(input2)}\\n')\n",
    "print('='*30)"
   ]
  },
  {
   "cell_type": "markdown",
   "metadata": {},
   "source": [
    "***"
   ]
  },
  {
   "cell_type": "markdown",
   "metadata": {},
   "source": [
    "**Q14. Write the Python program to find the second most repeated word\n",
    "in a given string?**\n"
   ]
  },
  {
   "cell_type": "code",
   "execution_count": null,
   "metadata": {},
   "outputs": [],
   "source": [
    "def most_repeated_2_string(input_string):\n",
    "    count_dict = {}\n",
    "    input_string = input_string.split(' ')\n",
    "    for word in input_string:\n",
    "        if word not in count_dict.keys():\n",
    "            count_dict[word] = 1\n",
    "        else:\n",
    "            count_dict[word] += 1\n",
    "    \n",
    "    # now sort the dictionary\n",
    "    count_tuple = sorted(count_dict.items(), key=lambda kv : kv[1], reverse=True)\n",
    "    \n",
    "    return count_tuple[1][0]"
   ]
  },
  {
   "cell_type": "code",
   "execution_count": null,
   "metadata": {
    "scrolled": true
   },
   "outputs": [],
   "source": [
    "print('='*30)\n",
    "print(f'case 1:\\t')\n",
    "input1 ='aaa bbb ccc bbb aaa aaa' # input \n",
    "print(f'\\t input: {input1}\\n')\n",
    "print(f'\\t output: {most_repeated_2_string(input1)}\\n')\n",
    "print('='*30)"
   ]
  },
  {
   "cell_type": "markdown",
   "metadata": {},
   "source": [
    "***"
   ]
  },
  {
   "cell_type": "markdown",
   "metadata": {},
   "source": [
    "**Q15. Write the Python program to find the minimum window in the given\n",
    "string, which will contains all the characters of another given\n",
    "strings?<br>\n",
    "Example 1**<br>\n",
    "**Input :** string1 = \" PRWSOERIUSFK \"<br>\n",
    "string2 = \" OSU \"<br>\n",
    "**Output:** Minimum window is \"OERIUS\"<br>"
   ]
  },
  {
   "cell_type": "code",
   "execution_count": null,
   "metadata": {},
   "outputs": [],
   "source": [
    "from functools import reduce\n",
    "def min_window_string(string1, string2):\n",
    "    assert len(string2) < len(string1), \"string2 is larger than string1\"\n",
    "    index = []\n",
    "    \n",
    "    new_string = string1\n",
    "    for char2 in string2:\n",
    "        for i, char1 in enumerate(new_string):\n",
    "            if char2==char1:\n",
    "                index.append(i) # index of found elemnts from new_string is stored \n",
    "                new_string = new_string[i:] # new_string(i,e string1) is reduced when the elements of string2 found \n",
    "                break\n",
    "                \n",
    "    if len(index) == 0:\n",
    "        return \"string2 not found\"\n",
    "    list_sum = reduce(lambda x,y:x+y, index) # since there is an offset each index adding all reuslt in final index\n",
    "    return string1[index[0]:list_sum+1]"
   ]
  },
  {
   "cell_type": "code",
   "execution_count": null,
   "metadata": {},
   "outputs": [],
   "source": [
    "print('='*30)\n",
    "print(f'case 1:\\t')\n",
    "string1 =' PRWSOERIUSFK '# input\n",
    "string2 ='OSU'\n",
    "print(f'\\t string1: {string1}\\n')\n",
    "print(f'\\t string2: {string2}\\n')\n",
    "print(f'\\t output: {min_window_string(string1, string2)}\\n')\n",
    "print('='*30)\n",
    "\n",
    "print('='*30)\n",
    "print(f'case 1:\\t')\n",
    "string1 ='santhoshkuamrt'# input\n",
    "string2 ='shr'\n",
    "print(f'\\t string1: {string1}\\n')\n",
    "print(f'\\t string2: {string2}\\n')\n",
    "print(f'\\t output: {min_window_string(string1, string2)}\\n')\n",
    "print('='*30)\n",
    "\n",
    "print('='*30)\n",
    "print(f'case 1:\\t')\n",
    "string1 ='india'# input\n",
    "string2 ='zyx'\n",
    "print(f'\\t string1: {string1}\\n')\n",
    "print(f'\\t string2: {string2}\\n')\n",
    "print(f'\\t output: {min_window_string(string1, string2)}\\n')\n",
    "print('='*30)"
   ]
  },
  {
   "cell_type": "markdown",
   "metadata": {},
   "source": [
    "***"
   ]
  },
  {
   "cell_type": "markdown",
   "metadata": {},
   "source": [
    "**Q16. Write the Python program to find smallest window that contains all\n",
    "characters of the given string?<br>\n",
    "Original Strings:**<br>\n",
    "asdaewsqgtwwsa<br>\n",
    "**Smallest window that contains all characters of the said string:**<br>\n",
    "Daewsqgt\n"
   ]
  },
  {
   "cell_type": "code",
   "execution_count": null,
   "metadata": {},
   "outputs": [],
   "source": [
    "def min_unique_window(string):\n",
    "    # unique string which contains unique elements\n",
    "    unique_str = ''\n",
    "    for char in string:\n",
    "        if char not in unique_str:\n",
    "            unique_str += char\n",
    "\n",
    "    new_str = string\n",
    "    str2 = ''\n",
    "    for i,char in enumerate(new_str):\n",
    "        if char not in str2:\n",
    "            str2+=char\n",
    "        else:\n",
    "            str2=''\n",
    "            new_str \n",
    "        \n",
    "    return new_str"
   ]
  },
  {
   "cell_type": "code",
   "execution_count": null,
   "metadata": {},
   "outputs": [],
   "source": []
  },
  {
   "cell_type": "markdown",
   "metadata": {},
   "source": [
    "***"
   ]
  },
  {
   "cell_type": "markdown",
   "metadata": {},
   "source": [
    "**Q17. Write the Python program to count number of substrings from a\n",
    "given string of lowercase alphabets with exactly k distinct (given)\n",
    "characters?<br>\n",
    "Input a string (lowercase alphabets):** wolf<br>\n",
    "**Input k:** 4<br>\n",
    "**Number of substrings with exactly 4 distinct characters:** 1<br>"
   ]
  },
  {
   "cell_type": "code",
   "execution_count": null,
   "metadata": {},
   "outputs": [],
   "source": []
  },
  {
   "cell_type": "code",
   "execution_count": null,
   "metadata": {},
   "outputs": [],
   "source": []
  },
  {
   "cell_type": "markdown",
   "metadata": {},
   "source": [
    "***"
   ]
  },
  {
   "cell_type": "markdown",
   "metadata": {},
   "source": [
    "**Q18. Write the Python program to count number of non-empty\n",
    "substrings of the given string?**<br>\n",
    "**Input a string**: w3resource<br>\n",
    "**Number of substrings:**<br>\n",
    "55\n"
   ]
  },
  {
   "cell_type": "markdown",
   "metadata": {},
   "source": [
    "***"
   ]
  },
  {
   "cell_type": "markdown",
   "metadata": {},
   "source": [
    "**Q19. Write the Python program to count number of substrings with same\n",
    "first and last characters of the given string?<br>\n",
    "Input a string**: abcd<br>\n",
    "4\n"
   ]
  },
  {
   "cell_type": "markdown",
   "metadata": {},
   "source": [
    "***"
   ]
  },
  {
   "cell_type": "markdown",
   "metadata": {},
   "source": [
    "**Q20. Write the Python program to count the number of strings where the\n",
    "string length is 2 or more, and first and last character are same\n",
    "from a given list of strings.**<br>"
   ]
  },
  {
   "cell_type": "markdown",
   "metadata": {},
   "source": [
    "***"
   ]
  },
  {
   "cell_type": "markdown",
   "metadata": {},
   "source": [
    "**Q21. Write the Python program to get a list, sorted in increasing order by\n",
    "the last element in each tuple from the given list of non-empty\n",
    "tuples?<br>**\n",
    "**Sample List -** [ (2, 5), (1, 2), (4, 4), (2, 3), (2, 1) ]<br>\n",
    "**Expected Result -** [ (2, 1), (1, 2), (2, 3), (4, 4), (2, 5) ]<br>"
   ]
  },
  {
   "cell_type": "code",
   "execution_count": null,
   "metadata": {},
   "outputs": [],
   "source": [
    "sample_list = [(2, 5),(1, 2),(4,4),(2,3),(2,1)]\n",
    "large = 0;\n",
    "output_list = []"
   ]
  },
  {
   "cell_type": "markdown",
   "metadata": {},
   "source": [
    "***"
   ]
  },
  {
   "cell_type": "markdown",
   "metadata": {},
   "source": [
    "**Q22. Write the Python program to remove duplicates from a list?**"
   ]
  },
  {
   "cell_type": "code",
   "execution_count": null,
   "metadata": {},
   "outputs": [],
   "source": [
    "print(\"=\"*30)\n",
    "input_list = [1,2,3,1,2,3,4,2,1]\n",
    "print(f\"input : {input_list}\\n\")\n",
    "print(f\"output : {list(set(input_list))}\") # using set to extract distict elements in list\n",
    "print(\"=\"*30)"
   ]
  },
  {
   "cell_type": "markdown",
   "metadata": {},
   "source": [
    "***"
   ]
  },
  {
   "cell_type": "markdown",
   "metadata": {},
   "source": [
    "**Q23. Write the Python program to find the list of words that are longer\n",
    "than n from a given list of words?**"
   ]
  },
  {
   "cell_type": "code",
   "execution_count": null,
   "metadata": {},
   "outputs": [],
   "source": [
    "def longer_than_n(input_list, n):\n",
    "    return [word  for word in input_list if len(word)<=n]"
   ]
  },
  {
   "cell_type": "code",
   "execution_count": null,
   "metadata": {},
   "outputs": [],
   "source": [
    "print(\"=\"*30)\n",
    "input_list = [\"Bangalore\", \"new york\", \"london\", \"beijing\", 'tokyo']\n",
    "print(f\"input : {input_list}\")\n",
    "n=7 \n",
    "print(f\"n : {n}\\n\")\n",
    "print(f\"output : {longer_than_n(input_list, n)}\")\n",
    "print(\"=\"*30)"
   ]
  },
  {
   "cell_type": "markdown",
   "metadata": {},
   "source": [
    "***"
   ]
  },
  {
   "cell_type": "markdown",
   "metadata": {},
   "source": [
    "**Q24. Write the Python program to print a specified list after removing the\n",
    "0th, 4th, and 5th elements?<br>\n",
    "Sample List** - ['Red', 'Green', 'White', 'Black', 'Pink', 'Yellow']<br>\n",
    "**Expected Output** - ['Green', 'White', 'Black']"
   ]
  },
  {
   "cell_type": "code",
   "execution_count": null,
   "metadata": {},
   "outputs": [],
   "source": [
    "print(\"=\"*30)\n",
    "input_list = ['Red', 'Green', 'White', 'Black', 'Pink', 'Yellow']\n",
    "print(f\"input : {input_list}\\n\")\n",
    "output_list = [ ele for i, ele in enumerate(input_list) if i not in {0, 3, 4} ]\n",
    "print(f\"output : {output_list}\\n\")\n",
    "print(\"=\"*30)"
   ]
  },
  {
   "cell_type": "markdown",
   "metadata": {},
   "source": [
    "***"
   ]
  },
  {
   "cell_type": "markdown",
   "metadata": {},
   "source": [
    "**Q25. Write the Python program to generate all permutations of a list in\n",
    "Python?**)"
   ]
  },
  {
   "cell_type": "markdown",
   "metadata": {},
   "source": [
    "***"
   ]
  },
  {
   "cell_type": "markdown",
   "metadata": {},
   "source": [
    "**Q26. Write the Python program to convert a pair of values into a sorted\n",
    "unique array?<br>\n",
    "Original List**- [ (1, 2), (3, 4), (1, 2), (5, 6), (7, 8), (1, 2), (3, 4), (3, 4), (7, 8), (9, 10) ]<br>\n",
    "**Sorted Unique Data**- [ 1, 2, 3, 4, 5, 6, 7, 8, 9, 10 ]<br>"
   ]
  },
  {
   "cell_type": "code",
   "execution_count": null,
   "metadata": {},
   "outputs": [],
   "source": [
    "def sort_unique_array(input_list):\n",
    "    unique_list =[]\n",
    "    for ele in input_list:\n",
    "        if ele[0] not in unique_list:\n",
    "            unique_list.append(ele[0])\n",
    "        if ele[1] not in unique_list:\n",
    "            unique_list.append(ele[1])\n",
    "    return unique_list            "
   ]
  },
  {
   "cell_type": "code",
   "execution_count": null,
   "metadata": {},
   "outputs": [],
   "source": [
    "print(\"=\"*30)\n",
    "input_list =  [ (1, 2), (3, 4), (1, 2), (5, 6), (7, 8), (1, 2), (3, 4), (3, 4), (7, 8), (9, 10) ]\n",
    "print(f\"input : {input_list}\\n\")\n",
    "print(f\"output : {sort_unique_array(input_list)}\")\n",
    "print(\"=\"*30)"
   ]
  },
  {
   "cell_type": "markdown",
   "metadata": {},
   "source": [
    "***"
   ]
  },
  {
   "cell_type": "markdown",
   "metadata": {},
   "source": [
    "**Q27. Write the Python class to convert an integer to a roman numeral?**"
   ]
  },
  {
   "cell_type": "code",
   "execution_count": null,
   "metadata": {},
   "outputs": [],
   "source": [
    "def int_to_roman_numeral(num):\n",
    "    n = num\n",
    "    roman_dict = { 1:'I', 4:'IV', 5:'V', 9:'IX', 10:'X', 40:'XD', 50:\"L\", 90:\"XC\", 100:\"C\", 500:\"D\", 1000:\"M\" }\n",
    "    roman_output = \"\"\n",
    "    length_of_num = len(str(num)) -1 # gives you length of number \n",
    "    while n > 0:\n",
    "        res = n // 10 # floor division\n",
    "        res = res * (10**length_of_num)  # i.e interms of 10 th powers\n",
    "        if res in roman_dict.keys():\n",
    "            roman_output+=roman_dict[res]\n",
    "            n=n//10\n",
    "    return roman_output"
   ]
  },
  {
   "cell_type": "code",
   "execution_count": null,
   "metadata": {},
   "outputs": [],
   "source": [
    "int_to_roman_numeral(55)"
   ]
  },
  {
   "cell_type": "markdown",
   "metadata": {},
   "source": [
    "***"
   ]
  },
  {
   "cell_type": "markdown",
   "metadata": {},
   "source": [
    "**Q28 Write the Python class to convert a Roman numeral to an integer?**"
   ]
  },
  {
   "cell_type": "code",
   "execution_count": null,
   "metadata": {},
   "outputs": [],
   "source": []
  },
  {
   "cell_type": "markdown",
   "metadata": {},
   "source": [
    "***"
   ]
  },
  {
   "cell_type": "markdown",
   "metadata": {},
   "source": [
    "**Q29. Write the Python class to find the validity of the string of the\n",
    "parentheses, '(', ')', '{', '}', '[' and '] and the brackets must be closed\n",
    "in the correct order,<br> example** - \"()\" and \"()[]{}\" are valid but \"[)\",\n",
    "\"({[)]\" and \"{{{\" are invalid.\n"
   ]
  },
  {
   "cell_type": "code",
   "execution_count": null,
   "metadata": {},
   "outputs": [],
   "source": [
    "class ValidateParantheses:\n",
    "    # class variables\n",
    "    refer_dict = { '{':'}', '(':')', '[':']'}\n",
    "    \n",
    "    @classmethod\n",
    "    def check_paranthese(cls, string):\n",
    "        if len(string)%2 != 0: # to closed parenthese we need even number of parentheses\n",
    "            return \"invalid\"\n",
    "        for i,char in enumerate(string):\n",
    "            if (i < len(string)/2-1): # considering only first half and chacking remaining with len(string) - i\n",
    "                if char not in cls.refer_dict.keys():\n",
    "                    return \"invalid\"\n",
    "                elif cls.refer_dict[char] != string[len(string)-1-i]:\n",
    "                    return \"invalid\"\n",
    "        return \"valid\""
   ]
  },
  {
   "cell_type": "code",
   "execution_count": null,
   "metadata": {},
   "outputs": [],
   "source": [
    "print('='*30)\n",
    "print(f'case 1:\\t')\n",
    "input1 ='{([()])}' # input1\n",
    "print(f'\\t input: {input1}\\n')\n",
    "output1 = ValidateParantheses.check_paranthese(input1)\n",
    "print(f'\\t output: {output1}\\n')\n",
    "print('='*30)\n",
    "\n",
    "print(f\"case 2:\\t\")\n",
    "input2 = '[' #input \"acting\"\n",
    "print(f'\\t input: {input2}\\n')\n",
    "output2 = ValidateParantheses.check_paranthese(input2)\n",
    "print(f'\\t output: {output2}\\n')\n",
    "print('='*30)\n",
    "\n",
    "print(f\"case 3:\\t\")\n",
    "input3 = '({])' #input\n",
    "print(f'\\t input: {input3}\\n')\n",
    "output3 = ValidateParantheses.check_paranthese(input3)\n",
    "print(f'\\t output: {output3}\\n')\n",
    "print('='*30)"
   ]
  },
  {
   "cell_type": "markdown",
   "metadata": {},
   "source": [
    "*** "
   ]
  },
  {
   "cell_type": "markdown",
   "metadata": {},
   "source": [
    "**Q30. Write the Python class to get all possible unique subsets from a set\n",
    "of distinct integers?<br>\n",
    "Input** - [4, 5, 6]<br>\n",
    "**Output** - [[], [6], [5], [5, 6], [4], [4, 6], [4, 5], [4, 5, 6]]\n"
   ]
  },
  {
   "cell_type": "code",
   "execution_count": null,
   "metadata": {},
   "outputs": [],
   "source": [
    "import itertools\n",
    "class UniqueSet:\n",
    "    \n",
    "    @staticmethod\n",
    "    def create_unique_subsets(input_list):\n",
    "        output = []\n",
    "        for j in range(len(input_list)+1):\n",
    "            for ele in itertools.combinations(input_list, j):\n",
    "                output.append(list(ele))\n",
    "        return output"
   ]
  },
  {
   "cell_type": "code",
   "execution_count": null,
   "metadata": {},
   "outputs": [],
   "source": [
    "print('='*30)\n",
    "print(f\"case 1:\\t\")\n",
    "input1 = [4,  5, 6] #input\n",
    "print(f'\\t input: {input1}\\n')\n",
    "output1 = UniqueSet.create_unique_subsets(input1)\n",
    "print(f'\\t output: {output1}\\n')\n",
    "print('='*30)"
   ]
  },
  {
   "cell_type": "markdown",
   "metadata": {},
   "source": [
    "***"
   ]
  },
  {
   "cell_type": "markdown",
   "metadata": {},
   "source": [
    "**Q31. Write the Python class to find a pair of elements (indices of the two\n",
    "numbers) from a given array whose sum equals the specific target\n",
    "number?<br>\n",
    "Input**: numbers- [10,20,10,40,50,60,70], target=50<br>\n",
    "**Output**- 3, 4\n"
   ]
  },
  {
   "cell_type": "code",
   "execution_count": null,
   "metadata": {},
   "outputs": [],
   "source": [
    "class NumTrick:\n",
    "    \n",
    "    def pair_of_sum(numbers, target):\n",
    "        output = []\n",
    "        for i, ele1 in enumerate(numbers):\n",
    "            for j,ele2 in enumerate(numbers[i+1:]):\n",
    "                if ele1+ele2 == target:\n",
    "                    output.append(i)\n",
    "                    output.append(i+j)\n",
    "                    return output\n",
    "        return \"not found!\""
   ]
  },
  {
   "cell_type": "code",
   "execution_count": null,
   "metadata": {},
   "outputs": [],
   "source": [
    "print('='*30)\n",
    "print(f\"case 1:\\t\")\n",
    "input1 = [10, 30, 50, 70, 100, 80] #input\n",
    "print(f'\\t numbers: {input1}\\n')\n",
    "target1 = 100\n",
    "print(f'\\t target1: {target1}\\n')\n",
    "output1 = NumTrick.pair_of_sum(input1, target1)\n",
    "print(f'\\t output: {output1}\\n')\n",
    "print('='*30)\n",
    "\n",
    "print(f\"case 2:\\t\")\n",
    "input1 = [100, 500, 700, 800, 400] #input\n",
    "print(f'\\t numbers: {input1}\\n')\n",
    "target1 = 1000\n",
    "print(f'\\t target1: {target1}\\n')\n",
    "output1 = NumTrick.pair_of_sum(input1, target1)\n",
    "print(f'\\t output: {output1}\\n')\n",
    "print('='*30)\n"
   ]
  },
  {
   "cell_type": "markdown",
   "metadata": {},
   "source": [
    "***"
   ]
  },
  {
   "cell_type": "markdown",
   "metadata": {},
   "source": [
    "**Q32. Write the Python class to find the three elements that sum to zero\n",
    "from the set of n real numbers?<br>\n",
    "Input array**- [-25, -10, -7, -3, 2, 4, 8, 10]<br>\n",
    "**Output** - [[-10, 2, 8], [-7, -3, 10]]\n"
   ]
  },
  {
   "cell_type": "code",
   "execution_count": null,
   "metadata": {},
   "outputs": [],
   "source": [
    "class NumTrick:\n",
    "    \n",
    "    @staticmethod\n",
    "    def sum_triples_zero(input_list):\n",
    "        output = []\n",
    "        arr = sorted(input_list)\n",
    "        for i in range(len(arr)-1):\n",
    "            l = i+1\n",
    "            r = len(arr)-1\n",
    "            \n",
    "            while(l < r):\n",
    "                sum_ = (arr[l] + arr[i] + arr[r])\n",
    "                if  sum_ == 0:\n",
    "                    output.append([arr[l], arr[i], arr[r]])\n",
    "                    l += 1\n",
    "                    r -= 1\n",
    "                elif sum_ > 0:\n",
    "                    r -= 1\n",
    "                else:\n",
    "                    l += 1\n",
    "        return output        "
   ]
  },
  {
   "cell_type": "code",
   "execution_count": null,
   "metadata": {},
   "outputs": [],
   "source": [
    "print('='*30)\n",
    "print(f\"case 1:\\t\")\n",
    "input1 = [-25, -10, -7, -3, 2, 4, 8, 10] #input\n",
    "print(f'\\t numbers: {input1}\\n')\n",
    "output1 = NumTrick.sum_triples_zero(input1)\n",
    "print(f'\\t output: {output1}\\n')\n",
    "print('='*30)\n",
    "\n",
    "print(f\"case 2:\\t\")\n",
    "input2 = [0, -1, 2, -3, 1]  #input\n",
    "print(f'\\t numbers: {input2}\\n')\n",
    "output2 = NumTrick.sum_triples_zero(input2)\n",
    "print(f'\\t output: {output2}\\n')\n",
    "print('='*30)\n"
   ]
  },
  {
   "cell_type": "markdown",
   "metadata": {},
   "source": [
    "***"
   ]
  },
  {
   "cell_type": "markdown",
   "metadata": {},
   "source": [
    "**Q33. Write the Python class to implement `pow(x, n)`?**"
   ]
  },
  {
   "cell_type": "code",
   "execution_count": null,
   "metadata": {},
   "outputs": [],
   "source": [
    "class Power:\n",
    "    def pow(x, n):\n",
    "        if n==0:\n",
    "            return 1\n",
    "        elif x==1 or n==1:\n",
    "            return x\n",
    "        elif n > 0:\n",
    "            return x*pow(x, n-1)\n",
    "        elif n < 0:\n",
    "            return 1/(x*pow(x, -n-1))"
   ]
  },
  {
   "cell_type": "code",
   "execution_count": null,
   "metadata": {},
   "outputs": [],
   "source": [
    "print('='*30)\n",
    "print(f\"case 1:\\t\")\n",
    "x = 2 #input\n",
    "n = -3\n",
    "print(f'\\t x : {x} \\n \\t n : {n}\\n')\n",
    "output1 = Power.pow(x, n)\n",
    "print(f'\\t output: {output1}\\n')\n",
    "print('='*30)\n",
    "\n",
    "print(f\"case 2:\\t\")\n",
    "x = 2 #input\n",
    "n = 10\n",
    "print(f'\\t x : {x} \\n \\t n : {n}\\n')\n",
    "output2 = Power.pow(x, n)\n",
    "print(f'\\t output: {output2}\\n')\n",
    "print('='*30)"
   ]
  },
  {
   "cell_type": "markdown",
   "metadata": {},
   "source": [
    "**Q34. Write the Python class which has two methods get_String and\n",
    "print_String. get_String accept the string from the user and print_String print the string in upper case.**"
   ]
  },
  {
   "cell_type": "code",
   "execution_count": null,
   "metadata": {},
   "outputs": [],
   "source": [
    "class String:\n",
    "    def get_String(self, string):\n",
    "        self.string = string\n",
    "    \n",
    "    def print_String(self):\n",
    "        print(self.string.upper())"
   ]
  },
  {
   "cell_type": "code",
   "execution_count": null,
   "metadata": {},
   "outputs": [],
   "source": [
    "print(\"=\"*30)\n",
    "input_data= input(\"Enter a String\\t\")\n",
    "s = String()\n",
    "s.get_String(input_data)\n",
    "print(f\"output of print_String: \\t \")\n",
    "s.print_String()\n",
    "print(\"=\"*30)"
   ]
  },
  {
   "cell_type": "markdown",
   "metadata": {},
   "source": [
    "***"
   ]
  },
  {
   "cell_type": "markdown",
   "metadata": {},
   "source": [
    "**Q35. Write the Python class named Rectangle constructed by a length\n",
    "and width and the method which will compute the area of the\n",
    "rectangle?**"
   ]
  },
  {
   "cell_type": "code",
   "execution_count": null,
   "metadata": {},
   "outputs": [],
   "source": [
    "class Rectangle:\n",
    "    def __init__(self, length, width):\n",
    "        self.length = length\n",
    "        self.width = width\n",
    "    \n",
    "    def area(self):\n",
    "        return self.width * self.length"
   ]
  },
  {
   "cell_type": "code",
   "execution_count": null,
   "metadata": {},
   "outputs": [],
   "source": [
    "print(\"=\"*30)\n",
    "rect = Rectangle(10, 20)\n",
    "print(f\"Rectangle with length={rect.length} and width={rect.width}\")\n",
    "area = rect.area()\n",
    "print(f\"Area = {area}\")\n",
    "print(\"=\"*30)"
   ]
  },
  {
   "cell_type": "markdown",
   "metadata": {},
   "source": [
    "***"
   ]
  },
  {
   "cell_type": "markdown",
   "metadata": {},
   "source": [
    "**Q36. Write the Python class named Circle constructed by the radius\n",
    "and two methods which will compute the area and perimeter of\n",
    "the circle?**"
   ]
  },
  {
   "cell_type": "code",
   "execution_count": null,
   "metadata": {},
   "outputs": [],
   "source": [
    "class Circle:\n",
    "    def __init__(self, radius):\n",
    "        self.radius = radius\n",
    "    \n",
    "    def area(self):\n",
    "        return (22/7)*(self.radius)**2\n",
    "    \n",
    "    def perimeter(self):\n",
    "        return 2*(22/7)*self.radius"
   ]
  },
  {
   "cell_type": "code",
   "execution_count": null,
   "metadata": {},
   "outputs": [],
   "source": [
    "print(\"=\"*30)\n",
    "print(\"Circle\")\n",
    "circle = Circle(10)\n",
    "print(f\"radius = {circle.radius}\")\n",
    "print(f\"area = {circle.area():.4f}\")\n",
    "print(f\"perimeter = {circle.perimeter():.4f}\")\n",
    "print(\"=\"*30)"
   ]
  },
  {
   "cell_type": "markdown",
   "metadata": {},
   "source": [
    "***"
   ]
  },
  {
   "cell_type": "markdown",
   "metadata": {},
   "source": [
    "**Q37. Write the Python program to get the class name of an instance in\n",
    "Python?**"
   ]
  },
  {
   "cell_type": "code",
   "execution_count": null,
   "metadata": {},
   "outputs": [],
   "source": [
    "def get_class_name(obj):\n",
    "    return obj.__class__"
   ]
  },
  {
   "cell_type": "code",
   "execution_count": null,
   "metadata": {},
   "outputs": [],
   "source": [
    "print(\"=\"*30)\n",
    "print(\"case 1\")\n",
    "a=5\n",
    "print(f\"a={a}, class_name={get_class_name(a)}\")\n",
    "\n",
    "print(\"=\"*30)\n",
    "print(\"case 2\")\n",
    "a=5.25\n",
    "print(f\"a={a}, class_name={get_class_name(a)}\")\n",
    "\n",
    "print(\"=\"*30)\n",
    "print(\"case 3\")\n",
    "a=\"santhosh\"\n",
    "print(f\"a={a}, class_name={get_class_name(a)}\")\n",
    "print(\"=\"*30)\n"
   ]
  },
  {
   "cell_type": "markdown",
   "metadata": {},
   "source": [
    "***"
   ]
  },
  {
   "cell_type": "markdown",
   "metadata": {},
   "source": [
    "**Q38. Write the Python program to count the number of students of\n",
    "individual class?<br>\n",
    "Sample data-<br>\n",
    "classes** = (<br>\n",
    "('V', 1),<br>\n",
    "('VI', 1),<br>\n",
    "('V', 2),<br>\n",
    "('VI', 2),<br>\n",
    "('VI', 3),<br>\n",
    "('VII', 1),<br>\n",
    ")<br>\n",
    "**Expected Output**-<br>\n",
    "Counter({'VI': 3, 'V': 2, 'VII': 1})\n"
   ]
  },
  {
   "cell_type": "code",
   "execution_count": null,
   "metadata": {},
   "outputs": [],
   "source": [
    "from collections import Counter\n",
    "classes = (('V', 1),('VI', 1),('V', 2),('VI', 2),('VI', 3),('VII', 1))\n",
    "Counter([class_name for class_name, no_of_students in classes])"
   ]
  },
  {
   "cell_type": "markdown",
   "metadata": {},
   "source": [
    "***"
   ]
  },
  {
   "cell_type": "markdown",
   "metadata": {},
   "source": [
    "**Q39. Write the Python program to create an instance of an OrderedDict using the given dictionary and sort dictionary during thecreation and print members of the dictionary in reverse order?<br>\n",
    "Expected Output**-<br>\n",
    "Angola 244.<br>\n",
    "Andorra 376.<br>\n",
    "Algeria 213.<br>\n",
    "Afghanistan 93.<br>\n",
    "Albania 355.<br>\n",
    "**In reverse order**-<br>\n",
    "Albania 355.<br>\n",
    "Afghanistan 93.<br>\n",
    "Algeria 213.<br>\n",
    "Andorra 376.<br>\n",
    "Angola 244.<br>\n"
   ]
  },
  {
   "cell_type": "code",
   "execution_count": null,
   "metadata": {},
   "outputs": [],
   "source": [
    "from collections import OrderedDict\n",
    "input_dict = {\"Angola\":244, \"Andorra\":376, \"Algeria\":213, \"Afghanistan\":93, \"Albania\":355}\n",
    "output_dict = OrderedDict(input_dict)\n",
    "print(\"=\"*30)\n",
    "print(\"Expected output:\\n\")\n",
    "for country, value in output_dict.items():\n",
    "    print(f\"\\t{country} {value}\")\n",
    "\n",
    "# inrevrser order\n",
    "print(\"\\nin reverse order\\n\")\n",
    "for country in reversed(output_dict.keys()):\n",
    "    print(f\"\\t{country} {output_dict[country]}\")\n",
    "print(\"=\"*30)"
   ]
  },
  {
   "cell_type": "markdown",
   "metadata": {},
   "source": [
    "***"
   ]
  },
  {
   "cell_type": "markdown",
   "metadata": {},
   "source": [
    "**Q40. Write the Python program to compare two unordered lists (not\n",
    "sets)?<br>\n",
    "Expected Output**: False\n"
   ]
  },
  {
   "cell_type": "code",
   "execution_count": null,
   "metadata": {},
   "outputs": [],
   "source": [
    "print(\"=\"*30)\n",
    "list1 = [1, 2, 3, 4]\n",
    "list2 = [1, 3, 2, 1]\n",
    "print(f\"list1 : {list1}\")\n",
    "print(f\"list2 : {list2}\")\n",
    "flag = (list1==list2) # comapring 2 un ordered list\n",
    "print(f\"upon comparing list1 and list2 : {flag}\")\n",
    "print(\"=\"*30)"
   ]
  },
  {
   "cell_type": "markdown",
   "metadata": {},
   "source": [
    "***"
   ]
  },
  {
   "cell_type": "markdown",
   "metadata": {},
   "source": [
    "**Q41. Write the Python program to get an array buffer information?<br>\n",
    "Expected Output**-<br>\n",
    "Array buffer start address in memory and number of elements.<br>\n",
    "(25855056, 2)"
   ]
  },
  {
   "cell_type": "code",
   "execution_count": null,
   "metadata": {},
   "outputs": [],
   "source": [
    "a = array('i', list(range(0,2)))\n",
    "print(\"=\"*30)\n",
    "print(\"Output:\\n\")\n",
    "print(\"Array buffer start address in memory and number of element\\n\")\n",
    "print(f\"({a.buffer_info()})\")\n",
    "print(\"=\"*30)"
   ]
  },
  {
   "cell_type": "markdown",
   "metadata": {},
   "source": [
    "***"
   ]
  },
  {
   "cell_type": "markdown",
   "metadata": {},
   "source": [
    "**Q42. Write the Python program to convert an array to an array of\n",
    "machine values and return the bytes representation?<br>\n",
    "Expected Output**-<br>\n",
    "**Original array**-<br>\n",
    "A1: array('i', [1, 2, 3, 4, 5, 6])<br>\n",
    "Array of bytes:<br>\n",
    "b'010000000200000003000000040000000500000006000000'<br>\n"
   ]
  },
  {
   "cell_type": "code",
   "execution_count": null,
   "metadata": {},
   "outputs": [],
   "source": [
    "print(\"=\"*30)\n",
    "A1 = array('i', range(1,7))\n",
    "print(f\"A1:array('i':{A1})\")\n",
    "print(\"Array of bytes:\")\n",
    "print(bytearray(A1))\n",
    "print(\"=\"*30)"
   ]
  },
  {
   "cell_type": "markdown",
   "metadata": {},
   "source": [
    "***"
   ]
  },
  {
   "cell_type": "markdown",
   "metadata": {},
   "source": [
    "**Q43. Write the Python program to read a string and interpreting the\n",
    "string as an array of machine values?<br>\n",
    "Expected Output-**<br>\n",
    "array1- array('i', [7, 8, 9, 10])<br>\n",
    "Bytes- b'0700000008000000090000000a000000'<br>\n",
    "array2- array('i', [7, 8, 9, 10])<br>"
   ]
  },
  {
   "cell_type": "code",
   "execution_count": null,
   "metadata": {},
   "outputs": [],
   "source": [
    "print(\"=\"*30)\n",
    "print(\"=\"*30)"
   ]
  },
  {
   "cell_type": "markdown",
   "metadata": {},
   "source": [
    "***"
   ]
  },
  {
   "cell_type": "markdown",
   "metadata": {},
   "source": [
    "## **Q44. Write the Python program to push three items into the heap and\n",
    "return the smallest item from the heap. Also, return and pop the\n",
    "smallest item from the heap?<br>\n",
    "Expected Output**-<br>\n",
    "Items in the heap-<br>\n",
    "('VI', 1).<br>\n",
    "('VII', 2).<br>\n",
    "('VIII', 2).<br>\n",
    "The smallest item in the heap:<br>\n",
    "('VI', 1).<br>\n",
    "Pop the smallest item in the heap:<br>\n",
    "('VII', 2).<br>\n",
    "('VIII', 3).<br>\n"
   ]
  },
  {
   "cell_type": "code",
   "execution_count": null,
   "metadata": {},
   "outputs": [],
   "source": [
    "#import heapq\n",
    "# pushing items to heap\n",
    "h = []\n",
    "heapq.heappush(h, ('VI', 1))\n",
    "heapq.heappush(h, ('VII', 3))\n",
    "heapq.heappush(h, ('VIII', 2))\n",
    "\n",
    "print(\"=\"*30)\n",
    "print(\"items in the heap:\")\n",
    "print(\"\\t('VI', 1)\\n\")\n",
    "print(\"\\t('VII', 3)\\n\")\n",
    "print(\"\\t('VIII', 2)\\n\")\n",
    "\n",
    "print(\"Smallest item in the heap:\")\n",
    "print(\"\\t\", heapq.heappop(h))\n",
    "\n",
    "print(\"Pop the smallest item in the heap:\\n\")\n",
    "print(\"\\t\", heapq.heappop(h))\n",
    "print(\"\\t\", heapq.heappop(h))"
   ]
  },
  {
   "cell_type": "markdown",
   "metadata": {},
   "source": [
    "***"
   ]
  },
  {
   "cell_type": "markdown",
   "metadata": {},
   "source": [
    "**Q45. Write the Python program to locate the left insertion point for a\n",
    "specified value in sorted order?<br>\n",
    "Expected Output:<br>**\n",
    "4<br>\n",
    "2\n"
   ]
  },
  {
   "cell_type": "code",
   "execution_count": null,
   "metadata": {},
   "outputs": [],
   "source": []
  },
  {
   "cell_type": "markdown",
   "metadata": {},
   "source": [
    "***"
   ]
  },
  {
   "cell_type": "markdown",
   "metadata": {},
   "source": [
    "**Q46. Write the Python program to create the FIFO queue?<br>\n",
    "Expected Output**:<br>\n",
    "0 1 2 3\n"
   ]
  },
  {
   "cell_type": "code",
   "execution_count": null,
   "metadata": {},
   "outputs": [],
   "source": [
    "# from queue import Queue\n",
    "# creating a queue\n",
    "q = Queue(maxsize=4)\n",
    "\n",
    "# now pusing elelemtns to queue using put()\n",
    "for ele in range(0,4):\n",
    "    q.put(ele)\n",
    "\n",
    "# now popping elelments from queue untill queue is empty()\n",
    "while (not q.empty()):\n",
    "    print(f\"{q.get()}\", end=' ')"
   ]
  },
  {
   "cell_type": "markdown",
   "metadata": {},
   "source": [
    "***"
   ]
  },
  {
   "cell_type": "markdown",
   "metadata": {},
   "source": [
    "**Q47. Write the Python program to calculate the harmonic sum of n-1.\n",
    "Note: The harmonic sum is the sum of reciprocals of the positive\n",
    "Integers?<br>\n",
    "Example** -<br>\n",
    "<center> $$1+(1/2)+(1/3)+(1/4)+(1/5)+....$$"
   ]
  },
  {
   "cell_type": "code",
   "execution_count": null,
   "metadata": {},
   "outputs": [],
   "source": [
    "def sum_of_harmonic(n):\n",
    "    s = 0.0 # because first element is 1\n",
    "    for i in range(1, n+1):\n",
    "        s  += 1/(i)\n",
    "    return s\n",
    "\n",
    "print(\"sum of harmonic for n={4}\")\n",
    "print(f\"{sum_of_harmonic(4):.5f}\")"
   ]
  },
  {
   "cell_type": "markdown",
   "metadata": {},
   "source": [
    "***"
   ]
  },
  {
   "cell_type": "markdown",
   "metadata": {},
   "source": [
    "**Q48. Write the NumPy program to create a 2d array with 6 on the border\n",
    "and 0 inside?<br>\n",
    "Expected Output-<br>\n",
    "Original array-**<br>\n",
    "[ [6 6 6 6 6]<br>\n",
    "[ 6 6 6 6 6]<br>\n",
    "[ 6 6 6 6 6 ]<br>\n",
    "[ 6 6 6 6 6 ]<br>\n",
    "[ 6 6 6 6 ] ]<br>\n",
    "**6 on the border and 0 inside in the array-**<br>\n",
    "[[ 6 6 6 6 6]<br>\n",
    "[ 6 0 0 0 6]<br>\n",
    "[ 6 0 0 0 6]<br>\n",
    "[ 6 0 0 0 6]<br>\n",
    "[ 6 6 6 6 6]].<br>\n"
   ]
  },
  {
   "cell_type": "code",
   "execution_count": null,
   "metadata": {},
   "outputs": [],
   "source": [
    "print(\"=\"*30)\n",
    "print(\"input array\\n\")\n",
    "input_array = 6*np.ones((5, 5))\n",
    "print(input_array)\n",
    "print(\"\\n ouput array\\n\")\n",
    "input_array[1:-1, 1:-1] =0\n",
    "print(input_array)\n",
    "print(\"=\"*30)"
   ]
  },
  {
   "cell_type": "markdown",
   "metadata": {},
   "source": [
    "***"
   ]
  },
  {
   "cell_type": "markdown",
   "metadata": {},
   "source": [
    "**Q49. Write the NumPy program to create a 8x8 matrix and fill it with the\n",
    "checkerboard pattern?<br>\n",
    "Checkerboard pattern**-<br>\n",
    "[[3 9 3 9 3 9 3 9]<br>\n",
    "[9 3 9 3 9 3 9 3]<br>\n",
    "[3 9 3 9 3 9 3 9]<br>\n",
    "[9 3 9 3 9 3 9 3]<br>\n",
    "[3 9 3 9 3 9 3 9]<br>\n",
    "[9 3 9 3 9 3 9 3]<br>\n",
    "[3 9 3 9 3 9 3 9]<br>\n",
    "[9 3 9 3 9 3 9 3]].<br>"
   ]
  },
  {
   "cell_type": "code",
   "execution_count": null,
   "metadata": {},
   "outputs": [],
   "source": [
    "a = np.empty((8,8))\n",
    "for i in range(8):\n",
    "    for j in range(8):\n",
    "        if i%2==1:\n",
    "            if j%2==0:\n",
    "                a[i][j] =3\n",
    "            else:\n",
    "                a[i][j] =9\n",
    "        else:\n",
    "            if j%2==0:\n",
    "                a[i][j] =9\n",
    "            else:\n",
    "                a[i][j] =3\n",
    "print(\"=\"*30)\n",
    "print(\"output\\n\")\n",
    "print(a)\n",
    "print(\"=\"*30)"
   ]
  },
  {
   "cell_type": "markdown",
   "metadata": {},
   "source": [
    "***"
   ]
  },
  {
   "cell_type": "markdown",
   "metadata": {},
   "source": [
    "**Q50. Write the NumPy program to create an empty and a full array.<br>\n",
    "Expected Output-<br>**\n",
    "<center>[[4.45057637e-308 1.78021527e-306 8.45549797e-307 1.37962049e-306]<br>\n",
    "<center>[1.11260619e-306 1.78010255e-306 9.79054228e-307 4.45057637e-308]<br>\n",
    "<center>[8.45596650e-307 9.34602321e-307 4.94065646e-322 0.00000000e+000]]<br>\n",
    "<center>[[6 6 6]<br>\n",
    "<center>[6 6 6]<br>\n",
    "<center>[6 6 6]]<br>\n"
   ]
  },
  {
   "cell_type": "code",
   "execution_count": 10,
   "metadata": {},
   "outputs": [
    {
     "name": "stdout",
     "output_type": "stream",
     "text": [
      "==============================\n",
      "numpy empty array :\n",
      "\n",
      "[[3.e-323 3.e-323 3.e-323]\n",
      " [3.e-323 3.e-323 3.e-323]\n",
      " [3.e-323 3.e-323 3.e-323]]\n",
      "\n",
      " numpy full array :\n",
      "\n",
      "[[6 6 6]\n",
      " [6 6 6]\n",
      " [6 6 6]]\n",
      "==============================\n"
     ]
    }
   ],
   "source": [
    "print(\"=\"*30)\n",
    "print(\"numpy empty array :\\n\")\n",
    "print(np.empty((3, 3)))\n",
    "print(\"\\n numpy full array :\\n\")\n",
    "print(np.full((3,3), 6))\n",
    "print(\"=\"*30)"
   ]
  },
  {
   "cell_type": "markdown",
   "metadata": {},
   "source": [
    "***"
   ]
  },
  {
   "cell_type": "markdown",
   "metadata": {},
   "source": [
    "**Q51. Write the NumPy program to convert the values of Centigrade\n",
    "degrees into the Fahrenheit degrees and the centigrade values are\n",
    "stored in the NumPy array.<br>\n",
    "Sample Array**-[0, 12, 45.21 ,34, 99.91]<br>\n",
    "Expected Output-<br>\n",
    "Values in Fahrenheit degrees-<br>\n",
    "[ 0. 12. 45.21 34. 99.91]<br>\n",
    "Values in Centigrade degrees-<br>\n",
    "[-17.77777778 -11.11111111 7.33888889 1.11111111 37.72777778]<br>"
   ]
  },
  {
   "cell_type": "code",
   "execution_count": 35,
   "metadata": {},
   "outputs": [
    {
     "name": "stdout",
     "output_type": "stream",
     "text": [
      "==============================\n",
      "output\n",
      "values in Farenheit degrees-\n",
      "[0, 12, 45.21, 34, 99.91]\n",
      "value sin Centrigrade degrees-\n",
      "[-17.77777777777778, -11.11111111111111, 7.3388888888888895, 1.1111111111111112, 37.727777777777774]\n"
     ]
    }
   ],
   "source": [
    "print(\"=\"*30)\n",
    "sample_array = [0, 12, 45.21 ,34, 99.91]\n",
    "print(\"output\")\n",
    "print(\"values in Farenheit degrees-\")\n",
    "print(f\"{sample_array}\")\n",
    "print(f\"value sin Centrigrade degrees-\")\n",
    "output = [(ele-32)*(5/9) for ele in sample_array]\n",
    "print(f\"{output}\")"
   ]
  },
  {
   "cell_type": "markdown",
   "metadata": {},
   "source": [
    "***"
   ]
  },
  {
   "cell_type": "markdown",
   "metadata": {},
   "source": [
    "**Q52. Write the NumPy program to find the real and imaginary parts of an\n",
    "array of complex numbers?<br>\n",
    "Expected Output**-<br>\n",
    "Original array [ 1.00000000+0.j 0.70710678+0.70710678j]<br>\n",
    "Real part of the array-<br>\n",
    "[ 1. 0.70710678]<br>\n",
    "Imaginary part of the array<br>\n",
    "[ 0. 0.70710678]<br>"
   ]
  },
  {
   "cell_type": "code",
   "execution_count": 54,
   "metadata": {},
   "outputs": [
    {
     "name": "stdout",
     "output_type": "stream",
     "text": [
      "==============================\n",
      "original array - [1.        +0.j         0.70710678+0.70710678j]\n",
      "Real part of the array-\n",
      "[1.0, 0.70710678]\n",
      "Imaginary part of the array-\n",
      "[0.0, 0.70710678]\n",
      "==============================\n"
     ]
    }
   ],
   "source": [
    "original_array =np.array([ 1+0.j, 0.70710678+0.70710678j])\n",
    "real_output = []\n",
    "img_output = []\n",
    "for ele in original_array:\n",
    "    real_output.append(ele.real)\n",
    "    img_output.append(ele.imag)\n",
    "\n",
    "print(\"=\"*30)\n",
    "print(f\"original array - {original_array}\")\n",
    "print(f\"Real part of the array-\\n{real_output}\")\n",
    "print(f\"Imaginary part of the array-\\n{img_output}\")\n",
    "print(\"=\"*30)"
   ]
  },
  {
   "cell_type": "markdown",
   "metadata": {},
   "source": [
    "***"
   ]
  },
  {
   "cell_type": "markdown",
   "metadata": {},
   "source": [
    "**Q53. Write the NumPy program to test whether each element of a 1-D\n",
    "array is also present in the second array?<br>\n",
    "Expected Output**-<br>\n",
    "Array1: [ 0 10 20 40 60]<br>\n",
    "Array2: [0, 40]<br>\n",
    "Compare each element of array1 and array2<br>\n",
    "[ True False False True False]<br>\n"
   ]
  },
  {
   "cell_type": "code",
   "execution_count": 74,
   "metadata": {},
   "outputs": [
    {
     "name": "stdout",
     "output_type": "stream",
     "text": [
      "==============================\n",
      "Array1:[ 0 10 20 40 60]\n",
      "Array2:[ 0 40]\n",
      "Comapre each element of array1 and array2\n",
      "[True, False, False, True, False]\n",
      "==============================\n"
     ]
    }
   ],
   "source": [
    "array1 = np.array([0, 10, 20, 40, 60])\n",
    "array2 = np.array([0, 40])\n",
    "output = [True if ele1 in array2 else False for ele1 in array1]\n",
    "\n",
    "print(\"=\"*30)\n",
    "print(f\"Array1:{array1}\")\n",
    "print(f\"Array2:{array2}\")\n",
    "print(f\"Comapre each element of array1 and array2\\n{output}\")\n",
    "print(\"=\"*30)"
   ]
  },
  {
   "cell_type": "markdown",
   "metadata": {},
   "source": [
    "***"
   ]
  },
  {
   "cell_type": "markdown",
   "metadata": {},
   "source": [
    "**Q54. Write the NumPy program to find common values between two\n",
    "arrays?<br>\n",
    "Expected Output-**<br>\n",
    "Array1: [ 0 10 20 40 60]<br>\n",
    "Array2: [10, 30, 40]<br>\n",
    "Common values between two arrays-<br>\n",
    "[10 40]<br>\n"
   ]
  },
  {
   "cell_type": "code",
   "execution_count": 76,
   "metadata": {},
   "outputs": [
    {
     "name": "stdout",
     "output_type": "stream",
     "text": [
      "==============================\n",
      "Array1:[ 0 10 20 40 60]\n",
      "Array2:[10 30 40]\n",
      "Common values between two arrays-\n",
      "[10, 40]\n",
      "==============================\n"
     ]
    }
   ],
   "source": [
    "array1 = np.array([0, 10, 20, 40, 60])\n",
    "array2 = np.array([10, 30, 40])\n",
    "output = [ele1 for ele1 in array1 if ele1 in array2]\n",
    "\n",
    "print(\"=\"*30)\n",
    "print(f\"Array1:{array1}\")\n",
    "print(f\"Array2:{array2}\")\n",
    "print(f\"Common values between two arrays-\\n{output}\")\n",
    "print(\"=\"*30)"
   ]
  },
  {
   "cell_type": "markdown",
   "metadata": {},
   "source": [
    "***"
   ]
  },
  {
   "cell_type": "markdown",
   "metadata": {},
   "source": [
    "**Q55. Write the NumPy program to get the unique elements of an array?<br>\n",
    "Expected Output-**<br>\n",
    "1)Original array-<br>\n",
    "[10 10 20 20 30 30]<br>\n",
    "Unique elements of the above array-<br>\n",
    "[10 20 30]<br>\n",
    "<br>\n",
    "2)Original array-<br>\n",
    "[[1 1]<br>\n",
    "[2 3]]<br>\n",
    "Unique elements of the above array-<br>\n",
    "[1 2 3]<br>\n"
   ]
  },
  {
   "cell_type": "code",
   "execution_count": 80,
   "metadata": {},
   "outputs": [
    {
     "name": "stdout",
     "output_type": "stream",
     "text": [
      "==============================\n",
      "Original array:-\n",
      "[10 10 20 20 30 30]\n",
      "Unique elements of the above array-\n",
      "[10 20 30]\n",
      "==============================\n",
      "Original array:-\n",
      "[[1 1]\n",
      " [2 3]]\n",
      "Unique elements of the above array-\n",
      "[1 2 3]\n",
      "==============================\n"
     ]
    }
   ],
   "source": [
    "original_array = np.array([10, 10, 20, 20, 30, 30])\n",
    "unique_array = np.unique(original_array)\n",
    "\n",
    "original_array2 = np.array([[1, 1],[2, 3]])\n",
    "unique_array2 = np.unique(original_array2)\n",
    "\n",
    "print(\"=\"*30)\n",
    "print(f\"Original array:-\\n{original_array}\")\n",
    "print(f\"Unique elements of the above array-\\n{unique_array}\")\n",
    "print(\"=\"*30)\n",
    "print(f\"Original array:-\\n{original_array2}\")\n",
    "print(f\"Unique elements of the above array-\\n{unique_array2}\")\n",
    "print(\"=\"*30)"
   ]
  },
  {
   "cell_type": "markdown",
   "metadata": {},
   "source": [
    "***"
   ]
  },
  {
   "cell_type": "markdown",
   "metadata": {},
   "source": [
    "**Q56. Write the NumPy program to find the set exclusive-or of two arrays.\n",
    "Set exclusive-or will return the sorted, unique values that are in\n",
    "only one (not both) of the input arrays?**<br>\n",
    "Array1- [ 0 10 20 40 60 80]<br>\n",
    "Array2- [10, 30, 40, 50, 70]<br>\n",
    "Unique values that are in only one (not both) of the input arrays-<br>\n",
    "[ 0 20 30 50 60 70 80]<br>"
   ]
  },
  {
   "cell_type": "code",
   "execution_count": 91,
   "metadata": {},
   "outputs": [
    {
     "name": "stdout",
     "output_type": "stream",
     "text": [
      "==============================\n",
      "Array1:[0, 10, 20, 40, 60, 80]\n",
      "Array2:[10, 30, 40, 50, 70]\n",
      "Unique values that are in only one (not both) of the input arrays-\n",
      "[ 0 20 30 50 60 70 80]\n",
      "==============================\n"
     ]
    }
   ],
   "source": [
    "array1 = [0, 10, 20, 40, 60, 80]\n",
    "array2 = [10, 30, 40, 50, 70]\n",
    "output = np.setxor1d(array1, array2) # np.serxor1d() gives not intersected elements in both array's\n",
    "\n",
    "print(\"=\"*30)\n",
    "print(f\"Array1:{array1}\")\n",
    "print(f\"Array2:{array2}\")\n",
    "print(f\"Unique values that are in only one (not both) of the input arrays-\\n{output}\")\n",
    "print(\"=\"*30)"
   ]
  },
  {
   "cell_type": "markdown",
   "metadata": {},
   "source": [
    "***"
   ]
  },
  {
   "cell_type": "markdown",
   "metadata": {},
   "source": [
    "**Q57. Write the NumPy program to test if all elements in an array\n",
    "evaluate to True ?**<br>\n",
    "Note: 0 evaluates to False in NumPy.<br>"
   ]
  },
  {
   "cell_type": "code",
   "execution_count": 109,
   "metadata": {},
   "outputs": [
    {
     "name": "stdout",
     "output_type": "stream",
     "text": [
      "==============================\n",
      "Array1:[1 2 3 4]\n",
      "is all elements in an array evaluate to \n",
      " True\n",
      "==============================\n",
      "Array1:[ 1  0  4  7 55]\n",
      "is all elements in an array evaluate to \n",
      " False\n",
      "==============================\n"
     ]
    }
   ],
   "source": [
    "a = np.array([1, 2, 3, 4])\n",
    "res1 =  a.all() \n",
    "b = np.array([1, 0, 4, 7, 55])\n",
    "res2 = b.all()\n",
    "\n",
    "print(\"=\"*30)\n",
    "print(f\"Array1:{a}\")\n",
    "print(f\"is all elements in an array evaluate to \\n {res1}\")\n",
    "\n",
    "print(\"=\"*30)\n",
    "print(f\"Array1:{b}\")\n",
    "print(f\"is all elements in an array evaluate to \\n {res2}\")\n",
    "print(\"=\"*30)"
   ]
  },
  {
   "cell_type": "markdown",
   "metadata": {},
   "source": [
    "**Q58 Write the NumPy program to test whether any array element along\n",
    "the given axis evaluates to True?**<br>\n",
    "Note: 0 evaluates to False in NumPy.\n"
   ]
  },
  {
   "cell_type": "code",
   "execution_count": 110,
   "metadata": {},
   "outputs": [
    {
     "name": "stdout",
     "output_type": "stream",
     "text": [
      "==============================\n",
      "Array1:[1 2 3 4]\n",
      "is any elements in an array evaluates to\n",
      " True\n",
      "==============================\n",
      "Array1:[ 1  0  4  7 55]\n",
      "is any elements in an array evaluates to\n",
      " True\n",
      "==============================\n"
     ]
    }
   ],
   "source": [
    "a = np.array([1, 2, 3, 4])\n",
    "res1 =  a.any() \n",
    "b = np.array([1, 0, 4, 7, 55])\n",
    "res2 = b.any()\n",
    "\n",
    "print(\"=\"*30)\n",
    "print(f\"Array1:{a}\")\n",
    "print(f\"is any elements in an array evaluates to\\n {res1}\")\n",
    "\n",
    "print(\"=\"*30)\n",
    "print(f\"Array1:{b}\")\n",
    "print(f\"is any elements in an array evaluates to\\n {res2}\")\n",
    "print(\"=\"*30)"
   ]
  },
  {
   "cell_type": "markdown",
   "metadata": {},
   "source": [
    "***"
   ]
  },
  {
   "cell_type": "markdown",
   "metadata": {},
   "source": [
    "**Q59. Write the NumPy program to construct an array by repeating?<br>\n",
    "Sample array-** [1, 2, 3, 4]<br>\n",
    "Expected Output-<br>\n",
    "Original array<br>\n",
    "[1, 2, 3, 4]<br>\n",
    "Repeating 2 times<br>\n",
    "[1 2 3 4 1 2 3 4]<br>\n",
    "Repeating 3 times <br>\n",
    "[1 2 3 4 1 2 3 4 1 2 3 4]"
   ]
  },
  {
   "cell_type": "code",
   "execution_count": 117,
   "metadata": {},
   "outputs": [
    {
     "name": "stdout",
     "output_type": "stream",
     "text": [
      "==============================\n",
      "Array1:[1 2 3 4]\n",
      "Repeating 2 times-\n",
      "[1 2 3 4 1 2 3 4]\n",
      "Repeating 3 times-\n",
      "[1 2 3 4 1 2 3 4 1 2 3 4]\n",
      "==============================\n"
     ]
    }
   ],
   "source": [
    "sample_array = np.array([1, 2, 3, 4])\n",
    "output2 = np.concatenate( (sample_array, sample_array), axis=0)\n",
    "output3 = np.concatenate((output2, sample_array), axis=0)\n",
    "\n",
    "print(\"=\"*30)\n",
    "print(f\"Array1:{sample_array}\")\n",
    "print(f\"Repeating 2 times-\\n{output2}\")\n",
    "print(f\"Repeating 3 times-\\n{output3}\")\n",
    "print(\"=\"*30)"
   ]
  },
  {
   "cell_type": "markdown",
   "metadata": {},
   "source": [
    "***"
   ]
  },
  {
   "cell_type": "markdown",
   "metadata": {},
   "source": [
    "**Q60. Write the NumPy program to find the indices of the maximum and\n",
    "minimum values with the given axis of an array?**<br>\n",
    "Original array- [1 2 3 4 5 6]<br>\n",
    "Maximum Values- 5<br>\n",
    "Minimum Values- 0<br>"
   ]
  },
  {
   "cell_type": "code",
   "execution_count": 122,
   "metadata": {},
   "outputs": [
    {
     "name": "stdout",
     "output_type": "stream",
     "text": [
      "==============================\n",
      "original_array-[1 2 3 4 5 6]\n",
      "Maximum Values-5\n",
      "Minimum Values-0\n",
      "==============================\n"
     ]
    }
   ],
   "source": [
    "original_array = np.array([1, 2, 3, 4, 5, 6])\n",
    "\n",
    "print(\"=\"*30)\n",
    "print(f\"original_array-{original_array}\")\n",
    "print(f\"Maximum Values-{np.argmax(original_array)}\")\n",
    "print(f\"Minimum Values-{np.argmin(original_array)}\")\n",
    "print(\"=\"*30)"
   ]
  },
  {
   "cell_type": "markdown",
   "metadata": {},
   "source": [
    "***"
   ]
  },
  {
   "cell_type": "markdown",
   "metadata": {},
   "source": [
    "**Q61. Write the NumPy program compare two arrays using numpy?**<br>\n",
    "Array a- [1 2]<br>\n",
    "Array b- [4 5]<br>\n",
    "a > b<br>\n",
    "[False False]<br>\n",
    "a >= b<br>\n",
    "[False False]<br>\n",
    "a < b<br>\n",
    "[ True True]<br>\n",
    "a <= b<br>\n",
    "[ True True]<br>"
   ]
  },
  {
   "cell_type": "code",
   "execution_count": 131,
   "metadata": {},
   "outputs": [
    {
     "name": "stdout",
     "output_type": "stream",
     "text": [
      "Array a-[1 2]\n",
      "Array b-[4 5]\n",
      "\n",
      "a>b\n",
      "[False False]\n",
      "\n",
      "a>=b\n",
      "[False False]\n",
      "\n",
      "a>b\n",
      "[ True  True]\n",
      "\n",
      "a<=b\n",
      "[ True  True]\n",
      "\n"
     ]
    }
   ],
   "source": [
    "a = np.array([1, 2])\n",
    "b = np.array([4, 5])\n",
    "print(f\"Array a-{a}\")\n",
    "print(f\"Array b-{b}\\n\")\n",
    "print(f\"a>b\")\n",
    "print(f\"{a>b}\\n\")\n",
    "print(f\"a>=b\")\n",
    "print(f\"{a>=b}\\n\")\n",
    "print(f\"a>b\")\n",
    "print(f\"{a<b}\\n\")\n",
    "print(f\"a<=b\")\n",
    "print(f\"{a<=b}\\n\")"
   ]
  },
  {
   "cell_type": "markdown",
   "metadata": {},
   "source": [
    "***"
   ]
  },
  {
   "cell_type": "markdown",
   "metadata": {},
   "source": [
    "**Q62. Write the NumPy program to sort an along the first, last axis of an\n",
    "array?<br>\n",
    "Sample array-** [[2,5],[4,4]]<br>\n",
    "Expected Output-<br>\n",
    "Original array:<br>\n",
    "[[4 6]<br>\n",
    "[2 1]]<br>\n",
    "Sort along the first axis:<br>\n",
    "[[2 1]<br>\n",
    "[4 6]]<br>\n",
    "Sort along the last axis-<br>\n",
    "[[1 2]<br>\n",
    "[4 6]]<br>"
   ]
  },
  {
   "cell_type": "code",
   "execution_count": 142,
   "metadata": {},
   "outputs": [
    {
     "name": "stdout",
     "output_type": "stream",
     "text": [
      "==============================\n",
      "Original array\n",
      " [[4 6]\n",
      " [2 1]]\n",
      "Sort along the first axis:\n",
      "[[2 1]\n",
      " [4 6]]\n",
      "Sort along the last axis-\n",
      "[[1 2]\n",
      " [4 6]]\n",
      "==============================\n"
     ]
    }
   ],
   "source": [
    "sample_array = np.array([[4, 6],[2, 1]])\n",
    "\n",
    "# sort along the first axis i.e row-wise\n",
    "row_sort = np.sort(sample_array, axis=0)\n",
    "\n",
    "# then sort along last axis i.e column_wise\n",
    "col_sort = np.sort(x, axis=1)\n",
    "\n",
    "print(\"=\"*30)\n",
    "print(f\"Original array\\n {sample_array}\")\n",
    "print(f\"Sort along the first axis:\\n{row_sort}\")\n",
    "print(f\"Sort along the last axis-\\n{col_sort}\")\n",
    "\n",
    "print(\"=\"*30)\n",
    "\n"
   ]
  },
  {
   "cell_type": "markdown",
   "metadata": {},
   "source": [
    "***"
   ]
  },
  {
   "cell_type": "markdown",
   "metadata": {},
   "source": [
    "**Q63. Write the NumPy program to sort pairs of first name and last name\n",
    "return their indices (first by last name, then by first name).**<br>\n",
    "first_names - ( Betsey, Shelley, Lanell, Genesis, Margery )<br>\n",
    "last_names - ( Battle, Brien, Plotner, Stahl, Woolum )<br>\n",
    "Expected Output-<br>\n",
    "[1 3 2 4 0]<br>"
   ]
  },
  {
   "cell_type": "code",
   "execution_count": 155,
   "metadata": {},
   "outputs": [
    {
     "data": {
      "text/plain": [
       "array([0, 1, 2, 3, 4])"
      ]
     },
     "execution_count": 155,
     "metadata": {},
     "output_type": "execute_result"
    }
   ],
   "source": [
    "first_names = np.array([\"Betsey\", \"Shelley\", \"Lanell\", \"Genesis\", \"Margery\"])\n",
    "last_names = np.array([\"Battle\", \"Brien\", \"Plotner\", \"Stahl\", \"Woolum\"])\n",
    "x = np.lexsort((first_names, last_names)"
   ]
  },
  {
   "cell_type": "markdown",
   "metadata": {},
   "source": [
    "***"
   ]
  },
  {
   "cell_type": "markdown",
   "metadata": {},
   "source": [
    "**Q64. Write the NumPy program to get the values and indices of the\n",
    "elements that are bigger than 10 in the given array?<br>\n",
    "Original array-**<br>\n",
    "[[ 0 10 20]<br>\n",
    "[20 30 40]]<br>\n",
    "Values bigger than 10 = [20 20 30 40]<br>\n",
    "Their indices are (array([0, 1, 1, 1]), array([2, 0, 1, 2]))<br>"
   ]
  },
  {
   "cell_type": "code",
   "execution_count": 172,
   "metadata": {},
   "outputs": [
    {
     "name": "stdout",
     "output_type": "stream",
     "text": [
      "==============================\n",
      "Original array\n",
      "[[ 0 10 20]\n",
      " [20 30 40]]\n",
      "Values bigger than 10 = [20, 20, 30, 40]\n",
      "Their indices are(array([0, 1, 1, 1]), array([2, 0, 1, 2]))\n",
      "==============================\n"
     ]
    }
   ],
   "source": [
    "original_array = np.array([[0, 10, 20], [20, 30, 40]])\n",
    "args = np.argwhere(original_array >10) # gives you indices where value > 10\n",
    "output_data = [original_array[i][j] for i,j in args]\n",
    "row_index = [i for i,j in args]\n",
    "col_index = [j for i,j in args]\n",
    "\n",
    "print(\"=\"*30)\n",
    "print(f\"Original array\\n{original_array}\")\n",
    "print(f\"Values bigger than 10 = {output_data}\\n\"+\n",
    "     f\"Their indices are(array({row_index}), array({col_index}))\")\n",
    "print(\"=\"*30)"
   ]
  },
  {
   "cell_type": "markdown",
   "metadata": {},
   "source": [
    "***"
   ]
  },
  {
   "cell_type": "markdown",
   "metadata": {},
   "source": [
    "**Q65. Write the NumPy program to find the memory size of a NumPy\n",
    "array?<br>\n",
    "Expected Output-**<br>\n",
    "128 bytes<br>"
   ]
  },
  {
   "cell_type": "code",
   "execution_count": 187,
   "metadata": {},
   "outputs": [
    {
     "name": "stdout",
     "output_type": "stream",
     "text": [
      "504 bytes\n"
     ]
    }
   ],
   "source": [
    "from sys import getsizeof\n",
    "a = np.zeros((7,7))\n",
    "mem_size = getsizeof(a)\n",
    "print(f\"{mem_size} bytes\")"
   ]
  },
  {
   "cell_type": "markdown",
   "metadata": {},
   "source": [
    "***"
   ]
  },
  {
   "cell_type": "markdown",
   "metadata": {},
   "source": [
    "**Q66. Write the NumPy program to create an array of ones and an array\n",
    "of zeros?<br>\n",
    "Expected Output-**<br>\n",
    "Create an array of zeros<br>\n",
    "Default type is float<br>\n",
    "[[ 0. 0.]]<br>\n",
    "Type changes to int<br>\n",
    "[[0 0]]<br>\n",
    "Create an array of ones<br>\n",
    "Default type is float<br>\n",
    "[[ 1. 1.]]<br>\n",
    "Type changes to int<br>\n",
    "[[1 1]]<br>"
   ]
  },
  {
   "cell_type": "code",
   "execution_count": 210,
   "metadata": {},
   "outputs": [
    {
     "name": "stdout",
     "output_type": "stream",
     "text": [
      "==============================\n",
      "Default type is float\n",
      "[[0. 0.]]\n",
      "Type changes to int\n",
      "[[0 0]]\n",
      "==============================\n",
      "Default type is float\n",
      "[[1. 1.]]\n",
      "Type changes to int\n",
      "[[1 1]]\n",
      "==============================\n"
     ]
    }
   ],
   "source": [
    "print(\"=\"*30)\n",
    "a = np.zeros((1,2), dtype=np.float16)\n",
    "print(\"Default type is float\")\n",
    "print(a)\n",
    "print(\"Type changes to int\")\n",
    "a = a.astype(np.int16)\n",
    "print(a)\n",
    "\n",
    "print(\"=\"*30)\n",
    "b = np.ones((1,2), dtype=np.float16)\n",
    "print(\"Default type is float\")\n",
    "print(b)\n",
    "print(\"Type changes to int\")\n",
    "b = b.astype(np.int16)\n",
    "print(b)\n",
    "print(\"=\"*30)"
   ]
  },
  {
   "cell_type": "markdown",
   "metadata": {},
   "source": [
    "***"
   ]
  },
  {
   "cell_type": "markdown",
   "metadata": {},
   "source": [
    "**Q67. Write the NumPy program to change the dimension of an array?<br>\n",
    "Expected Output-**<br>\n",
    "6 rows and 0 columns<br>\n",
    "(6,)<br>\n",
    "(3, 3) -> 3 rows and 3 columns<br>\n",
    "[[1 2 3]<br>\n",
    "[4 5 6]<br>\n",
    "[7 8 9]]<br>\n",
    "Change array shape to (3, 3) -> 3 rows and 3 columns<br>\n",
    "[[1 2 3]<br>\n",
    "[4 5 6]<br>\n",
    "[7 8 9]]<br>"
   ]
  },
  {
   "cell_type": "code",
   "execution_count": 211,
   "metadata": {},
   "outputs": [
    {
     "name": "stdout",
     "output_type": "stream",
     "text": [
      "==============================\n",
      "6 rows and 0 columns\n",
      "(6,)\n",
      "(3,3)-> 3 rows and 3 columns\n",
      "[[1 2 3]\n",
      " [4 5 6]\n",
      " [7 8 9]]\n",
      "change array shape to (3, 3)->3 rows and 3 columns\n",
      "[[1 2 3]\n",
      " [4 5 6]\n",
      " [7 8 9]]\n",
      "==============================\n"
     ]
    }
   ],
   "source": [
    "x = np.array([1,2,3,4,5,6])\n",
    "print(\"=\"*30)\n",
    "print(\"6 rows and 0 columns\")\n",
    "print(x.shape)\n",
    "print(\"(3,3)-> 3 rows and 3 columns\")\n",
    "y = np.array([[1,2,3], [4,5,6], [7,8,9]])\n",
    "print(y)\n",
    "print(\"change array shape to (3, 3)->3 rows and 3 columns\")\n",
    "x = np.array([1,2,3,4,5,6,7,8,9])\n",
    "x.shape = (3, 3)\n",
    "print(x)\n",
    "print(\"=\"*30)"
   ]
  },
  {
   "cell_type": "markdown",
   "metadata": {},
   "source": [
    "***"
   ]
  },
  {
   "cell_type": "markdown",
   "metadata": {},
   "source": [
    "**Q68. Write the NumPy program to create a new shape to an array\n",
    "without changing its data ?**<br>\n",
    "Reshape 3x2-<br>\n",
    "[[1 2]<br>\n",
    "[3 4]<br>\n",
    "[5 6]]<br>\n",
    "Reshape 2x3-<br>\n",
    "[[1 2 3]<br>\n",
    "[4 5 6]]<br>"
   ]
  },
  {
   "cell_type": "code",
   "execution_count": 220,
   "metadata": {},
   "outputs": [
    {
     "name": "stdout",
     "output_type": "stream",
     "text": [
      "==============================\n",
      "Reshape 3X2-\n",
      "[[1 2]\n",
      " [3 4]\n",
      " [5 6]]\n",
      "\n",
      " Reshape 2X3-\n",
      "[[1 2 3]\n",
      " [4 5 6]]\n"
     ]
    }
   ],
   "source": [
    "x = np.array([1,2,3,4,5,6])\n",
    "print(\"=\"*30)\n",
    "print(f\"Reshape 3X2-\\n{x.reshape((3,2))}\")\n",
    "print(f\"\\n Reshape 2X3-\\n{x.reshape((2,3))}\")"
   ]
  },
  {
   "cell_type": "markdown",
   "metadata": {},
   "source": [
    "***"
   ]
  },
  {
   "cell_type": "markdown",
   "metadata": {},
   "source": [
    "**Q69. Write the NumPy program to create a new array of 3*5, filled with2?<br>\n",
    "Expected Output-**<br>\n",
    "[[2 2 2 2 2]<br>\n",
    "[2 2 2 2 2]<br>\n",
    "[2 2 2 2 2]]<br>\n",
    "[[2 2 2 2 2]<br>\n",
    "[2 2 2 2 2]<br>\n",
    "[2 2 2 2 2]]<br>"
   ]
  },
  {
   "cell_type": "code",
   "execution_count": 224,
   "metadata": {},
   "outputs": [
    {
     "name": "stdout",
     "output_type": "stream",
     "text": [
      "[[2. 2. 2. 2. 2.]\n",
      " [2. 2. 2. 2. 2.]\n",
      " [2. 2. 2. 2. 2.]]\n"
     ]
    }
   ],
   "source": [
    "a = np.ones([3, 5])*2\n",
    "print(a)"
   ]
  },
  {
   "cell_type": "markdown",
   "metadata": {},
   "source": [
    "***"
   ]
  },
  {
   "cell_type": "markdown",
   "metadata": {},
   "source": [
    "**Q70. Write the NumPy program to create a 3-D array with ones on adiagonal and zeros elsewhere?<br>\n",
    "Expected Output-**<br>\n",
    "[[ 1. 0. 0.]<br>\n",
    "[ 0. 1. 0.]<br>\n",
    "[ 0. 0. 1.]]<br>"
   ]
  },
  {
   "cell_type": "code",
   "execution_count": 231,
   "metadata": {},
   "outputs": [
    {
     "name": "stdout",
     "output_type": "stream",
     "text": [
      "[[1 0 0]\n",
      " [0 1 0]\n",
      " [0 0 1]]\n"
     ]
    }
   ],
   "source": [
    "a = np.array([1, 1, 1])\n",
    "b = np.diag(a)\n",
    "print(b)"
   ]
  },
  {
   "cell_type": "markdown",
   "metadata": {},
   "source": [
    "***"
   ]
  },
  {
   "cell_type": "markdown",
   "metadata": {},
   "source": [
    "**Q71. Write the NumPy program to split an array of 14 elements into the\n",
    "3 arrays and each of which has 2, 4, and 8 elements in original order?<br>\n",
    "Expected Output-**<br>\n",
    "Original array- [ 1 2 3 4 5 6 7 8 9 10 11 12 13 14]<br>\n",
    "After splitting-<br>\n",
    "[array([1, 2]), array([3, 4, 5, 6]), array([ 7, 8, 9, 10, 11, 12, 13, 14])]<br>"
   ]
  },
  {
   "cell_type": "code",
   "execution_count": 247,
   "metadata": {},
   "outputs": [
    {
     "name": "stdout",
     "output_type": "stream",
     "text": [
      "==============================\n",
      "Original array - [ 1  2  3  4  5  6  7  8  9 10 11 12 13 14]\n",
      "\n",
      "After splitting-\n",
      "[array([1, 2]), array([3, 4, 5, 6]), array([ 7,  8,  9, 10, 11, 12, 13, 14])]\n",
      "==============================\n"
     ]
    }
   ],
   "source": [
    "original_array = np.array(range(1,15))\n",
    "split_array = np.split(original_array, [2, 6])\n",
    "\n",
    "print(\"=\"*30)\n",
    "print(f\"Original array - {original_array}\\n\")\n",
    "print(f\"After splitting-\\n{split_array}\")\n",
    "print(\"=\"*30)"
   ]
  },
  {
   "cell_type": "markdown",
   "metadata": {},
   "source": [
    "***"
   ]
  },
  {
   "cell_type": "markdown",
   "metadata": {},
   "source": [
    "**Q72. Write the NumPy program to split of an array of shape 4x4 it into\n",
    "two arrays along the second axis ?<br>\n",
    "Sample array** -<br>\n",
    "[[ 0 1 2 3]<br>\n",
    "[ 4 5 6 7]<br>\n",
    "[ 8 9 10 11]<br>\n",
    "[12 13 14 15]]<br>\n",
    "Expected Output-<br>\n",
    "[array([[ 0, 1],<br>\n",
    "[ 4, 5],<br>\n",
    "[ 8, 9],<br>\n",
    "[12, 13]]), array([[ 2, 3],<br>\n",
    "[ 6, 7],<br>\n",
    "[10, 11],<br>\n",
    "[14, 15]]), array([], shape=(4, 0), dtype=int64)]<br>"
   ]
  },
  {
   "cell_type": "code",
   "execution_count": 268,
   "metadata": {},
   "outputs": [
    {
     "name": "stdout",
     "output_type": "stream",
     "text": [
      "==============================\n",
      "input : \n",
      " [[ 0  1  2  3]\n",
      " [ 4  5  6  7]\n",
      " [ 8  9 10 11]\n",
      " [12 13 14 15]]\n",
      "\n",
      "Expected Output-\n",
      "[array([[ 0,  1],\n",
      "       [ 4,  5],\n",
      "       [ 8,  9],\n",
      "       [12, 13]]), array([[ 2,  3],\n",
      "       [ 6,  7],\n",
      "       [10, 11],\n",
      "       [14, 15]]), array([], shape=(4, 0), dtype=int64)]\n"
     ]
    }
   ],
   "source": [
    "sample_array = np.array(range(0, 16)).reshape((4, 4))\n",
    "print(\"=\"*30)\n",
    "print(f\"input : \\n {sample_array}\")\n",
    "print(\"\\nExpected Output-\")\n",
    "output = np.split(sample_array, [2,6], axis=1)\n",
    "print(output)"
   ]
  },
  {
   "cell_type": "markdown",
   "metadata": {},
   "source": [
    "***"
   ]
  },
  {
   "cell_type": "markdown",
   "metadata": {},
   "source": [
    "**Q73. Write the NumPy program to create a 5x5 matrix with row valuesranging from 0 to 4?<br>\n",
    "Original array-**<br>\n",
    "[[ 0. 0. 0. 0. 0.]<br>\n",
    "[ 0. 0. 0. 0. 0.]<br>\n",
    "[ 0. 0. 0. 0. 0.]<br>\n",
    "[ 0. 0. 0. 0. 0.]<br>\n",
    "[ 0. 0. 0. 0. 0.]]<br>\n",
    "Row values ranging from 0 to 4.<br>\n",
    "[[ 0. 1. 2. 3. 4.]<br>\n",
    "[ 0. 1. 2. 3. 4.]<br>\n",
    "[ 0. 1. 2. 3. 4.]<br>\n",
    "[ 0. 1. 2. 3. 4.]<br>\n",
    "[ 0. 1. 2. 3. 4.]]<br>"
   ]
  },
  {
   "cell_type": "code",
   "execution_count": 276,
   "metadata": {},
   "outputs": [
    {
     "name": "stdout",
     "output_type": "stream",
     "text": [
      "==============================\n",
      "original array\n",
      "[[0. 0. 0. 0. 0.]\n",
      " [0. 0. 0. 0. 0.]\n",
      " [0. 0. 0. 0. 0.]\n",
      " [0. 0. 0. 0. 0.]\n",
      " [0. 0. 0. 0. 0.]]\n",
      "\n",
      " Row values ranging from 0 to 4 \n",
      " [[0. 1. 2. 3. 4.]\n",
      " [0. 1. 2. 3. 4.]\n",
      " [0. 1. 2. 3. 4.]\n",
      " [0. 1. 2. 3. 4.]\n",
      " [0. 1. 2. 3. 4.]]\n",
      "==============================\n"
     ]
    }
   ],
   "source": [
    "x = np.zeros((5, 5))\n",
    "output = x+np.array(range(0,5))\n",
    "\n",
    "print(\"=\"*30)\n",
    "print(f\"original array\\n{x}\")\n",
    "print(f\"\\n Row values ranging from 0 to 4 \\n {output}\")\n",
    "print(\"=\"*30)"
   ]
  },
  {
   "cell_type": "markdown",
   "metadata": {},
   "source": [
    "**Q74. Write the NumPy program to create an array of zeros and three\n",
    "column types (integer, float, character)?<br>\n",
    "Expected Output-**<br>\n",
    "[(1, 2., b'Albert Einstein') (2, 2., b'Edmond Halley')<br>\n",
    "(3, 3., b'Gertrude B. Elion')]<br>"
   ]
  },
  {
   "cell_type": "code",
   "execution_count": 290,
   "metadata": {},
   "outputs": [
    {
     "name": "stdout",
     "output_type": "stream",
     "text": [
      "Output\n",
      " [(1, 2.0, b'Albert Einstein'), (2, 2.0, b'Edmond Halley'), (3, 3.0, b'Gertrude B. Elion')]\n"
     ]
    }
   ],
   "source": [
    "dt = np.dtype([('index', np.int64), ('index_float', np.float64), ('name', np.unicode_, 16)])\n",
    "data = np.zeros((3,3), dtype=dt)\n",
    "data = [(1, 2., b'Albert Einstein'),  (2, 2., b'Edmond Halley'), (3, 3., b'Gertrude B. Elion')]\n",
    "print(f\"Output\\n {data}\")"
   ]
  },
  {
   "cell_type": "markdown",
   "metadata": {},
   "source": [
    "***"
   ]
  },
  {
   "cell_type": "markdown",
   "metadata": {},
   "source": [
    "**Q75. Write the NumPy program to remove the negative values in the numpy array with 0?<br>\n",
    "Expected Output**-<br>\n",
    "Original array:<br>\n",
    "[-1 -4 0 2 3 4 5 -6]<br>\n",
    "Replace the negative values of the said array with 0-<br>\n",
    "[0 0 0 2 3 4 5 0]<br>"
   ]
  },
  {
   "cell_type": "code",
   "execution_count": 302,
   "metadata": {},
   "outputs": [
    {
     "name": "stdout",
     "output_type": "stream",
     "text": [
      "==============================\n",
      "Origoinal Array: \n",
      " [-1 -4  0  2  3  4  5 -6]\n",
      "Replace the negative values of the said array with 0-\n",
      " [0 0 0 2 3 4 5 0]\n",
      "==============================\n"
     ]
    }
   ],
   "source": [
    "print(\"=\"*30)\n",
    "original_array = np.array([-1, -4, 0, 2, 3, 4, 5, -6])\n",
    "print(f\"Origoinal Array: \\n {original_array}\")\n",
    "\n",
    "args = np.where(original_array < 0)\n",
    "for index in args:\n",
    "    original_array[index] =0\n",
    "\n",
    "print(f\"Replace the negative values of the said array with 0-\\n {original_array}\")\n",
    "print(\"=\"*30)"
   ]
  },
  {
   "cell_type": "markdown",
   "metadata": {},
   "source": [
    "***"
   ]
  },
  {
   "cell_type": "markdown",
   "metadata": {},
   "source": [
    "**Q76. Write the NumPy program to compute the histogram of a set of data?**\n"
   ]
  },
  {
   "cell_type": "code",
   "execution_count": 310,
   "metadata": {},
   "outputs": [
    {
     "data": {
      "text/plain": [
       "(array([0., 2., 1., 0., 0.]),\n",
       " array([0, 1, 2, 3, 4, 5]),\n",
       " <a list of 5 Patch objects>)"
      ]
     },
     "execution_count": 310,
     "metadata": {},
     "output_type": "execute_result"
    },
    {
     "data": {
      "image/png": "[encoded data removed]",
      "text/plain": [
       "<Figure size 432x288 with 1 Axes>"
      ]
     },
     "metadata": {
      "needs_background": "light"
     },
     "output_type": "display_data"
    }
   ],
   "source": [
    "a = np.array([1,1,2])\n",
    "plt.hist(a, bins=range(0,6))"
   ]
  },
  {
   "cell_type": "markdown",
   "metadata": {},
   "source": [
    "***"
   ]
  },
  {
   "cell_type": "markdown",
   "metadata": {},
   "source": [
    "**Q77. Write the NumPy program to compute the line graph of a set of data?**"
   ]
  },
  {
   "cell_type": "markdown",
   "metadata": {},
   "source": [
    "***"
   ]
  },
  {
   "cell_type": "markdown",
   "metadata": {},
   "source": [
    "**Q78. Write the NumPy program to extracts all the elements from second row from given (4x4) array?<br>\n",
    "Sample Output-**<br>\n",
    "Original array-<br>\n",
    "[[ 0 1 2 3]<br>\n",
    "[ 4 5 6 7]<br>\n",
    "[ 8 9 10 11]<br>\n",
    "[12 13 14 15]]<br>\n",
    "Extracted data- Second row<br>\n",
    "[4 5 6 7]<br>"
   ]
  },
  {
   "cell_type": "code",
   "execution_count": 315,
   "metadata": {},
   "outputs": [
    {
     "name": "stdout",
     "output_type": "stream",
     "text": [
      "Original Array\n",
      "[[ 0  1  2  3]\n",
      " [ 4  5  6  7]\n",
      " [ 8  9 10 11]\n",
      " [12 13 14 15]]\n",
      "Extracted data - Second row \n",
      " [ 8  9 10 11]\n"
     ]
    }
   ],
   "source": [
    "x = np.array(range(0,16)).reshape((4, 4))\n",
    "print(f\"Original Array\\n{x}\")\n",
    "print(f\"Extracted data - Second row \\n {x[2,:]}\")"
   ]
  },
  {
   "cell_type": "markdown",
   "metadata": {},
   "source": [
    "***"
   ]
  },
  {
   "cell_type": "markdown",
   "metadata": {},
   "source": [
    "**Q79. Write the NumPy program to extract first element of the second<br>\n",
    "row and fourth element of fourth row from a given (4x4) array?<br>\n",
    "Sample Output-**<br>\n",
    "Original array-<br>\n",
    "[[ 0 1 2 3]<br>\n",
    "[ 4 5 6 7]<br>\n",
    "[ 8 9 10 11]<br>\n",
    "[12 13 14 15]]<br>\n",
    "Extracted data- First element of the second row and fourth element of fourth row<br>\n",
    "[ 4 15]<br>"
   ]
  },
  {
   "cell_type": "code",
   "execution_count": 317,
   "metadata": {},
   "outputs": [
    {
     "name": "stdout",
     "output_type": "stream",
     "text": [
      "Original Array\n",
      "[[ 0  1  2  3]\n",
      " [ 4  5  6  7]\n",
      " [ 8  9 10 11]\n",
      " [12 13 14 15]]\n",
      "Extracted data- First element of the second row and fourth element of fourth row\n",
      "[4 15]\n"
     ]
    }
   ],
   "source": [
    "x = np.array(range(0,16)).reshape((4, 4))\n",
    "print(f\"Original Array\\n{x}\")\n",
    "print(f\"Extracted data- First element of the second row and fourth element of fourth row\")\n",
    "print(f\"[{x[1][0]} {x[3][3]}]\")"
   ]
  },
  {
   "cell_type": "markdown",
   "metadata": {},
   "source": [
    "***"
   ]
  },
  {
   "cell_type": "markdown",
   "metadata": {},
   "source": [
    "**Q80. Write the NumPy program to add two arrays A and B of sizes (3,3) and (,3)?**<br>\n",
    "Sample Output-<br>\n",
    "Original array-<br>\n",
    "Array-1<br>\n",
    "[[1 1 1]<br>\n",
    "[1 1 1]<br>\n",
    "[1 1 1]]<br>\n",
    "Array-2<br>\n",
    "[0 1 2]<br>\n",
    "A + B:<br>\n",
    "[[1 2 3]<br>\n",
    "[1 2 3]<br>\n",
    "[1 2 3]]<br>"
   ]
  },
  {
   "cell_type": "code",
   "execution_count": 320,
   "metadata": {},
   "outputs": [
    {
     "name": "stdout",
     "output_type": "stream",
     "text": [
      "Array-1\n",
      "[[1 1 1]\n",
      " [1 1 1]\n",
      " [1 1 1]]\n",
      "\n",
      "Array-2\n",
      "[0 1 2]\n",
      "\n",
      "A+B:\n",
      "[[1 2 3]\n",
      " [1 2 3]\n",
      " [1 2 3]]\n"
     ]
    }
   ],
   "source": [
    "array1 = np.ones((3, 3), dtype=np.int16)\n",
    "array2 = np.array(range(0, 3), dtype=np.int16)\n",
    "output = array1 + array2\n",
    "\n",
    "print(f\"Array-1\\n{array1}\\n\")\n",
    "print(f\"Array-2\\n{array2}\\n\")\n",
    "print(f\"A+B:\")\n",
    "print(output)"
   ]
  },
  {
   "cell_type": "markdown",
   "metadata": {},
   "source": [
    "***"
   ]
  },
  {
   "cell_type": "markdown",
   "metadata": {},
   "source": [
    "**Q81. Write the NumPy program to copy data from a given array to another array?<br>\n",
    "Sample Output**-<br>\n",
    "Original array-<br>\n",
    "[24 27 30 29 18 14]<br>\n",
    "Copy of the said array-<br>\n",
    "[24 27 30 29 18 14]<br>"
   ]
  },
  {
   "cell_type": "code",
   "execution_count": 322,
   "metadata": {},
   "outputs": [
    {
     "name": "stdout",
     "output_type": "stream",
     "text": [
      "Original array-\n",
      "[24 27 30 29 18 14]\n",
      "\n",
      " Copy of the said array-\n",
      "[24 27 30 29 18 14]\n"
     ]
    }
   ],
   "source": [
    "x = np.array([24, 27, 30, 29, 18, 14])\n",
    "y = x.copy()\n",
    "print(f\"Original array-\\n{x}\")\n",
    "print(f\"\\n Copy of the said array-\\n{y}\")"
   ]
  },
  {
   "cell_type": "markdown",
   "metadata": {},
   "source": [
    "***"
   ]
  },
  {
   "cell_type": "markdown",
   "metadata": {},
   "source": [
    "**Q82. Write the NumPy program to calculate the sum of all columns of the 2D numpy array?<br>\n",
    "Sample Output-**<br>\n",
    "Original array-<br>\n",
    "[[ 0 1 2 3 4 5 6 7 8]<br>\n",
    "[ 9 10 11 12 13 14 15 16 17]<br>\n",
    "[18 19 20 21 22 23 24 25 26]<br>\n",
    "[27 28 29 30 31 32 33 34 35]]<br>\n",
    "Sum of all columns-<br>\n",
    "[54 58 62 66 70 74 78 82 86]<br>"
   ]
  },
  {
   "cell_type": "code",
   "execution_count": 333,
   "metadata": {},
   "outputs": [
    {
     "name": "stdout",
     "output_type": "stream",
     "text": [
      "==============================\n",
      "Orginal Arrat-\n",
      "[[ 0  1  2  3  4  5  6  7  8]\n",
      " [ 9 10 11 12 13 14 15 16 17]\n",
      " [18 19 20 21 22 23 24 25 26]\n",
      " [27 28 29 30 31 32 33 34 35]]\n",
      "\n",
      " Sum of all columns-\n",
      "[54 58 62 66 70 74 78 82 86]\n",
      "==============================\n"
     ]
    }
   ],
   "source": [
    "x = np.array(range(0, 36)).reshape((4,9))\n",
    "sum_of_col = np.sum(x, axis=0)\n",
    "\n",
    "print(\"=\"*30)\n",
    "print(f\"Orginal Arrat-\\n{x}\")\n",
    "print(f\"\\n Sum of all columns-\\n{sum_of_col}\")\n",
    "print(\"=\"*30)"
   ]
  },
  {
   "cell_type": "markdown",
   "metadata": {},
   "source": [
    "***"
   ]
  },
  {
   "cell_type": "markdown",
   "metadata": {},
   "source": [
    "**Q83. Write the NumPy program to calculate averages without NaNs along the given array?<br>\n",
    "Sample Output-**<br>\n",
    "Original array-<br>\n",
    "[[10. 20. 30.]<br>\n",
    "[40. 50. nan]<br>\n",
    "[nan 6. nan]<br>\n",
    "[nan nan nan]]<br>\n",
    "Averages without NaNs along the said array-<br>\n",
    "[20. 45. 6. nan]<br>"
   ]
  },
  {
   "cell_type": "code",
   "execution_count": 344,
   "metadata": {},
   "outputs": [
    {
     "name": "stdout",
     "output_type": "stream",
     "text": [
      "==============================\n",
      "Original array-\n",
      "{x}\n",
      "Averages without NaNs along the said array-\n",
      "[20. 45.  6. nan]\n",
      "==============================\n"
     ]
    },
    {
     "name": "stderr",
     "output_type": "stream",
     "text": [
      "/home/san/anaconda3/envs/ml_env/lib/python3.7/site-packages/ipykernel_launcher.py:2: RuntimeWarning: Mean of empty slice\n",
      "  \n"
     ]
    }
   ],
   "source": [
    "x = np.array([[10, 20 ,30], [40, 50, np.nan], [np.nan, 6, np.nan], [np.nan, np.nan, np.nan]])\n",
    "result = np.nanmean(x, axis=1)\n",
    "\n",
    "print(\"=\"*30)\n",
    "print(\"Original array-\\n{x}\")\n",
    "print(f\"Averages without NaNs along the said array-\\n{result}\")\n",
    "print(\"=\"*30)\n"
   ]
  },
  {
   "cell_type": "markdown",
   "metadata": {},
   "source": [
    "***"
   ]
  },
  {
   "cell_type": "markdown",
   "metadata": {},
   "source": [
    "**Q84. Create two arrays of six elements. Write the NumPy program to\n",
    "count the number of instances of a value occurring in one array on\n",
    "the condition of another array.<br>\n",
    "Sample Output-**<br>\n",
    "Original arrays-<br>\n",
    "[ 10 -10 10 -10 -10 10]<br>\n",
    "[0.85 0.45 0.9 0.8 0.12 0.6 ]<br>\n",
    "Number of instances of a value occurring in one array on the condition of another\n",
    "array: 3<br>"
   ]
  },
  {
   "cell_type": "code",
   "execution_count": 345,
   "metadata": {},
   "outputs": [],
   "source": [
    "array1 = np.array([10, -10, 10, -10, -10, 10])\n",
    "array2 = np.array([0.85, 0.45, 0.9, 0.8, 0.12, 0.6])"
   ]
  },
  {
   "cell_type": "markdown",
   "metadata": {},
   "source": [
    "***"
   ]
  },
  {
   "cell_type": "markdown",
   "metadata": {},
   "source": [
    "**Q85. Write the NumPy program to convert a Python dictionary to a\n",
    "Numpy ndarray ?<br>\n",
    "Original dictionary-**<br>\n",
    "{'column0': {'a': 1, 'b': 0.0, 'c': 0.0, 'd': 2.0},<br>\n",
    "'column1': {'a': 3.0, 'b': 1, 'c': 0.0, 'd': -1.0},<br>\n",
    "'column2': {'a': 4, 'b': 1, 'c': 5.0, 'd': -1.0},<br>\n",
    "'column3': {'a': 3.0, 'b': -1.0, 'c': -1.0, 'd': -1.0}}<br>\n",
    "Type: <class 'dict'><br>\n",
    "ndarray-<br>\n",
    "[[ 1. 0. 0. 2.]<br>\n",
    "[ 3. 1. 0. -1.]<br>\n",
    "[ 4. 1. 5. -1.]<br>\n",
    "[ 3. -1. -1. -1.]]<br>\n",
    "Type: <class 'numpy.ndarray'><br>"
   ]
  },
  {
   "cell_type": "code",
   "execution_count": 351,
   "metadata": {},
   "outputs": [],
   "source": [
    "original_dict = {'column0': {'a': 1, 'b': 0.0, 'c': 0.0, 'd': 2.0},\n",
    "                'column1': {'a': 3.0, 'b': 1, 'c': 0.0, 'd': -1.0},\n",
    "                'column2': {'a': 4, 'b': 1, 'c': 5.0, 'd': -1.0},\n",
    "                'column3': {'a': 3.0, 'b': -1.0, 'c': -1.0, 'd': -1.0}}\n"
   ]
  },
  {
   "cell_type": "markdown",
   "metadata": {},
   "source": [
    "***"
   ]
  },
  {
   "cell_type": "markdown",
   "metadata": {},
   "source": [
    "**Q86. Write the Numpy program to find and store the non-zero unique\n",
    "rows in an array after comparing each row with other row in the\n",
    "given matrix?**<br>\n",
    "Original array-<br>\n",
    "[[ 1 1 0]<br>\n",
    "[ 0 0 0]<br>\n",
    "[ 0 2 3]<br>\n",
    "[ 0 0 0]<br>\n",
    "[ 0 -1 1]<br>\n",
    "[ 0 0 0]]<br>\n",
    "Non-zero unique rows-<br>\n",
    "[[ 1 1 0]<br>\n",
    "[ 0 2 3]<br>\n",
    "[ 0 -1 1]]<br>"
   ]
  },
  {
   "cell_type": "code",
   "execution_count": 362,
   "metadata": {},
   "outputs": [
    {
     "name": "stdout",
     "output_type": "stream",
     "text": [
      "==============================\n",
      "Original array-\n",
      "[[ 1  1  0]\n",
      " [ 0  0  0]\n",
      " [ 0  2  3]\n",
      " [ 0  0  0]\n",
      " [ 0 -1 -1]\n",
      " [ 0  0  0]]\n",
      "\n",
      " Non-zero unique rows-\n",
      "[[ 1  1  0]\n",
      " [ 0  2  3]\n",
      " [ 0 -1 -1]]\n",
      "==============================\n"
     ]
    }
   ],
   "source": [
    "original_array = np.array([[1, 1, 0], [0, 0, 0], [0, 2, 3], [0, 0, 0], [0, -1, -1], [0, 0, 0]])\n",
    "output_list = []\n",
    "for row in original_array:\n",
    "    if row.any():\n",
    "        output_list.append(list(row))\n",
    "output_array = np.array(output_list)\n",
    "\n",
    "print(\"=\"*30)\n",
    "print(f\"Original array-\\n{original_array}\")\n",
    "print(f\"\\n Non-zero unique rows-\\n{output_array}\")\n",
    "print(\"=\"*30)\n"
   ]
  },
  {
   "cell_type": "markdown",
   "metadata": {},
   "source": [
    "***"
   ]
  },
  {
   "cell_type": "markdown",
   "metadata": {},
   "source": [
    "**Q87. Write the NumPy program to multiply the matrix by another matrix\n",
    "of complex numbers and create a new matrix of complex\n",
    "numbers?<br>\n",
    "Sample output-**<br>\n",
    "First array-<br>\n",
    "[ 1.+2.j 3.+4.j]<br>\n",
    "Second array-<br>\n",
    "[ 5.+6.j 7.+8.j]<br>\n",
    "Product of above two arrays-<br>\n",
    "(70-8j)<br>"
   ]
  },
  {
   "cell_type": "code",
   "execution_count": 373,
   "metadata": {},
   "outputs": [
    {
     "name": "stdout",
     "output_type": "stream",
     "text": [
      "==============================\n",
      "First array-\n",
      "[1.+2.j 3.+4.j]\n",
      "\n",
      "Second array-\n",
      "[5.+6.j 7.+8.j]\n",
      "Product of above two arrays-[[1 2 3]\n",
      " [1 2 3]\n",
      " [1 2 3]]\n",
      "==============================\n"
     ]
    }
   ],
   "source": [
    "first_array = np.array([1+2j, 3+4j])\n",
    "second_array = np.array([5+6j, 7+8j])\n",
    "ouput = np.vdot(first_array, second_array)\n",
    "\n",
    "print(\"=\"*30)\n",
    "print(f\"First array-\\n{first_array}\")\n",
    "print(f\"\\nSecond array-\\n{second_array}\")\n",
    "print(f\"Product of above two arrays-{output}\")\n",
    "print(\"=\"*30)"
   ]
  },
  {
   "cell_type": "markdown",
   "metadata": {},
   "source": [
    "***"
   ]
  },
  {
   "cell_type": "markdown",
   "metadata": {},
   "source": [
    "**Q88. Write a NumPy program to generate the matrix product of two Arrays?<br>\n",
    "Sample Output-**<br>\n",
    "Matrices and vectors.<br>\n",
    "x-<br>\n",
    "[[1, 0], [1, 1]]<br>\n",
    "y-<br>\n",
    "[[3, 1], [2, 2]]<br>\n",
    "Matrix product of above two arrays-<br>\n",
    "[[3 1]<br>\n",
    "[5 3]]<br>"
   ]
  },
  {
   "cell_type": "code",
   "execution_count": 380,
   "metadata": {},
   "outputs": [
    {
     "name": "stdout",
     "output_type": "stream",
     "text": [
      "==============================\n",
      "x-\n",
      "[[1 0]\n",
      " [1 1]]\n",
      "\n",
      "y-\n",
      "[[3 1]\n",
      " [2 2]]\n",
      "\n",
      "Matrix product of above two arrays-\n",
      "[[3 1]\n",
      " [5 3]]\n",
      "==============================\n"
     ]
    }
   ],
   "source": [
    "x = np.array([[1, 0], [1, 1]])\n",
    "y = np.array([[3, 1], [2, 2]])\n",
    "output = np.matmul(x, y)\n",
    "\n",
    "print(\"=\"*30)\n",
    "print(f\"x-\\n{x}\")\n",
    "print(f\"\\ny-\\n{y}\")\n",
    "print(f\"\\nMatrix product of above two arrays-\\n{output}\")\n",
    "print(\"=\"*30)"
   ]
  },
  {
   "cell_type": "markdown",
   "metadata": {},
   "source": [
    "***"
   ]
  },
  {
   "cell_type": "markdown",
   "metadata": {},
   "source": [
    "**Q89. Write the NumPy program to find roots of the following\n",
    "Polynomials?<br>\n",
    "$$ a) (x2 - 4x + 7)$$<br>\n",
    "$$ b) x4 - 11x3 + 9x2 + 11x ? 10 $$<br>\n",
    "Sample output-**<br>\n",
    "Roots of the first polynomial-<br>\n",
    "[ 1. 1.]<br>\n",
    "Roots of the second polynomial-<br>\n",
    "[ 11.04461946+0.j -0.87114210+0.j 0.91326132+0.4531004j\n",
    "0.91326132-0.4531004j ]<br>\n"
   ]
  },
  {
   "cell_type": "code",
   "execution_count": 390,
   "metadata": {},
   "outputs": [
    {
     "name": "stdout",
     "output_type": "stream",
     "text": [
      "==============================\n",
      "\n",
      "Roots of the first polynomial-\n",
      " [3.73205081 0.26794919]\n",
      "\n",
      "Roots of the first polynomial-\n",
      " [ 9.97739366+0.j          1.9206355 +0.j         -0.44901458+0.56588568j\n",
      " -0.44901458-0.56588568j]\n",
      "==============================\n"
     ]
    }
   ],
   "source": [
    "# creating co=efficients list \n",
    "coeff1 = [1, -4, 1]\n",
    "coeff2 = [1, -11, 9, 11, 10]\n",
    "\n",
    "roots1 = np.roots(coeff1)\n",
    "roots2 = np.roots(coeff2)\n",
    "\n",
    "print(\"=\"*30)\n",
    "print(f\"\\nRoots of the first polynomial-\\n {roots1}\")\n",
    "print(f\"\\nRoots of the first polynomial-\\n {roots2}\")\n",
    "print(\"=\"*30)"
   ]
  },
  {
   "cell_type": "markdown",
   "metadata": {},
   "source": [
    "***"
   ]
  },
  {
   "cell_type": "markdown",
   "metadata": {},
   "source": [
    "**Q90. Write the NumPy program to calculate inverse of sine, cosine,\n",
    "and inverse tangent for all elements in a given array?<br>\n",
    "Sample output-**<br>\n",
    "Inverse sine- [-1.57079633 0. 1.57079633]<br>\n",
    "Inverse cosine- [3.14159265 1.57079633 0. ]<br>\n",
    "Inverse tangent- [-0.78539816 0. 0.78539816]<br>"
   ]
  },
  {
   "cell_type": "markdown",
   "metadata": {},
   "source": [
    "***"
   ]
  },
  {
   "cell_type": "markdown",
   "metadata": {},
   "source": [
    "**Q91. Write the NumPy program to calculate the difference between in\n",
    "neighbouring elements, element-wise of a given array?<br>\n",
    "Sample output-**<br>\n",
    "Original array-<br>\n",
    "[1 3 5 7 0]<br>\n",
    "Difference between neighbouring elements, element-wise of the said array-<br>\n",
    "[ 2 2 2 -7]<br>"
   ]
  },
  {
   "cell_type": "code",
   "execution_count": 394,
   "metadata": {},
   "outputs": [
    {
     "name": "stdout",
     "output_type": "stream",
     "text": [
      "==============================\n",
      "Original array-\n",
      "[1 3 5 7 0]\n",
      "\n",
      "Difference between neighbouring elements, element-wise of the said array-\n",
      "[ 2  2  2 -7]\n",
      "==============================\n"
     ]
    }
   ],
   "source": [
    "x = np.array([1, 3, 5, 7, 0])\n",
    "output = np.diff(x)\n",
    "\n",
    "print(\"=\"*30)\n",
    "print(f\"Original array-\\n{x}\")\n",
    "print(f\"\\nDifference between neighbouring elements, element-wise of the said array-\\n{output}\")\n",
    "print(\"=\"*30)"
   ]
  },
  {
   "cell_type": "markdown",
   "metadata": {},
   "source": [
    "***"
   ]
  },
  {
   "cell_type": "markdown",
   "metadata": {},
   "source": [
    "**Q92. Write the Python program to find the maximum and the minimum\n",
    "value of a given flattened array?<br>\n",
    "Expected Output-**<br>\n",
    "Original flattened array-<br>\n",
    "[[0 1]<br>\n",
    "[2 3]]<br>\n",
    "Maximum value of the above flattened array-<br>\n",
    "3<br>\n",
    "Minimum value of the above flattened array-<br>\n",
    "0<br>"
   ]
  },
  {
   "cell_type": "code",
   "execution_count": 410,
   "metadata": {},
   "outputs": [
    {
     "name": "stdout",
     "output_type": "stream",
     "text": [
      "==============================\n",
      "Original flattened array-\n",
      "[[0 1]\n",
      " [2 3]]\n",
      "\n",
      "Maximum value of the above flattened array-\n",
      "3\n",
      "\n",
      "Minimum value of the above flattened array-\n",
      "0\n",
      "==============================\n"
     ]
    }
   ],
   "source": [
    "x = np.array(range(0,4)).reshape((2, 2))\n",
    "\n",
    "# flattening the array\n",
    "y = x.reshape((1, x.shape[0]*x.shape[1]))[0]\n",
    "\n",
    "max_ele = np.max(y)\n",
    "min_ele = np.min(y)\n",
    "\n",
    "print(\"=\"*30)\n",
    "print(f\"Original flattened array-\\n{x}\")\n",
    "print(f\"\\nMaximum value of the above flattened array-\\n{max_ele}\")\n",
    "print(f\"\\nMinimum value of the above flattened array-\\n{min_ele}\")\n",
    "print(\"=\"*30)"
   ]
  },
  {
   "cell_type": "markdown",
   "metadata": {},
   "source": [
    "***"
   ]
  },
  {
   "cell_type": "markdown",
   "metadata": {},
   "source": [
    "**Q93. Write the NumPy program to calculate the difference between in\n",
    "the maximum and the minimum values of a given array along the\n",
    "second axis ?<br>\n",
    "Expected Output-**<br>\n",
    "Original array-<br>\n",
    "[[ 0 1 2 3 4 5]<br>\n",
    "[ 6 7 8 9 10 11]]<br>\n",
    "Difference between the maximum and the minimum values of the said array-<br>\n",
    "[5 5]<br>"
   ]
  },
  {
   "cell_type": "code",
   "execution_count": 418,
   "metadata": {},
   "outputs": [
    {
     "name": "stdout",
     "output_type": "stream",
     "text": [
      "==============================\n",
      "Original array-\n",
      "[[ 0  1  2  3  4  5]\n",
      " [ 6  7  8  9 10 11]]\n",
      "\n",
      "Difference between the maximum and the minimum values of the said array-\n",
      "[5 5]\n",
      "==============================\n"
     ]
    }
   ],
   "source": [
    "x = np.array(range(0, 12)).reshape(2, 6)\n",
    "max_col_wise = np.max(x, axis=1)\n",
    "min_col_wise = np.min(x, axis=1)\n",
    "\n",
    "output = max_col_wise - min_col_wise\n",
    "\n",
    "print(\"=\"*30)\n",
    "print(f\"Original array-\\n{x}\")\n",
    "print(f\"\\nDifference between the maximum and the minimum values of the said array-\\n{output}\")\n",
    "print(\"=\"*30)"
   ]
  },
  {
   "cell_type": "markdown",
   "metadata": {},
   "source": [
    "***"
   ]
  },
  {
   "cell_type": "markdown",
   "metadata": {},
   "source": [
    "**Q94. Write the NumPy program to compute the weighted of the given array ?<br>\n",
    "Sample Output-**<br>\n",
    "Original array-<br>\n",
    "[0 1 2 3 4]<br>\n",
    "Weighted average of the said array-<br>\n",
    "2.6666666666666665<br>"
   ]
  },
  {
   "cell_type": "markdown",
   "metadata": {},
   "source": [
    "***"
   ]
  },
  {
   "cell_type": "markdown",
   "metadata": {},
   "source": [
    "**Q95. Write the NumPy program to compute the mean, standard\n",
    "deviation, and the variance of a given array along the second\n",
    "axis?<br>\n",
    "Sample output-**<br>\n",
    "Original array-<br>\n",
    "[0 1 2 3 4 5]<br>\n",
    "Mean- 2.5<br>\n",
    "std- 1<br>\n",
    "variance- 2.9166666666666665<br>"
   ]
  },
  {
   "cell_type": "code",
   "execution_count": 431,
   "metadata": {},
   "outputs": [
    {
     "name": "stdout",
     "output_type": "stream",
     "text": [
      "==============================\n",
      "original array-\n",
      " [0 1 2 3 4 5]\n",
      "\n",
      " Mean-2.5\n",
      "\n",
      " std-1.707825127659933\n",
      "\n",
      " varianve-2.9166666666666665\n",
      "==============================\n"
     ]
    }
   ],
   "source": [
    "x = np.arange(0,6)\n",
    "mu = np.mean(x, axis=0)\n",
    "sigma = np.std(x, axis=0)\n",
    "sigma_sq = np.var(x, axis=0)\n",
    "\n",
    "print(\"=\"*30)\n",
    "print(f\"original array-\\n {x}\")\n",
    "print(f\"\\n Mean-{mu}\")\n",
    "print(f\"\\n std-{sigma}\")\n",
    "print(f\"\\n varianve-{sigma_sq}\")\n",
    "print(\"=\"*30)"
   ]
  },
  {
   "cell_type": "markdown",
   "metadata": {},
   "source": [
    "***"
   ]
  },
  {
   "cell_type": "markdown",
   "metadata": {},
   "source": [
    "**Q96. Write the Numpy program to compute the covariance matrix of the\n",
    "two given arrays?<br>\n",
    "Sample Output-**<br>\n",
    "Original array1-<br>\n",
    "[0 1 2]<br>\n",
    "Original array1-<br>\n",
    "[2 1 0]<br>\n",
    "Covariance matrix of the said arrays-<br>\n",
    "[[ 1. -1.]<br>\n",
    "[-1. 1.]]<br>"
   ]
  },
  {
   "cell_type": "code",
   "execution_count": 452,
   "metadata": {},
   "outputs": [
    {
     "name": "stdout",
     "output_type": "stream",
     "text": [
      "==============================\n",
      "Original array1-\n",
      "[0 1 2]\n",
      "\n",
      "Original array2-\n",
      "[2 1 0]\n",
      "\n",
      "Covariance matrix of the said arrays-\n",
      "[[ 1. -1.]\n",
      " [-1.  1.]]\n",
      "==============================\n"
     ]
    }
   ],
   "source": [
    "x1 = np.arange(0,3)\n",
    "x2 = x[::-1] # reversing x1\n",
    "cov_mat = np.cov(x1, x2)\n",
    "\n",
    "print(\"=\"*30)\n",
    "print(f\"Original array1-\\n{x1}\")\n",
    "print(f\"\\nOriginal array2-\\n{x2}\")\n",
    "print(f\"\\nCovariance matrix of the said arrays-\\n{cov_mat}\")\n",
    "print(\"=\"*30)"
   ]
  },
  {
   "cell_type": "markdown",
   "metadata": {},
   "source": [
    "***"
   ]
  },
  {
   "cell_type": "markdown",
   "metadata": {},
   "source": [
    "**Q97. Write a NumPy program to compute the cross-correlation of two\n",
    "given arrays ?<br>\n",
    "Sample Output-**<br>\n",
    "Original array1-<br>\n",
    "[0 1 3]<br>\n",
    "Original array1-<br>\n",
    "[2 4 5]<br>\n",
    "Cross-correlation of the said arrays-<br>\n",
    "[ [ 2.33333333 2.16666667 ]<br>\n",
    "[ 2.16666667 2.33333333 ] ]<br>"
   ]
  },
  {
   "cell_type": "code",
   "execution_count": 453,
   "metadata": {},
   "outputs": [
    {
     "name": "stdout",
     "output_type": "stream",
     "text": [
      "==============================\n",
      "Original array1-\n",
      "[0 1 3]\n",
      "\n",
      "Original array2-\n",
      "[2 4 5]\n",
      "\n",
      "Covariance matrix of the said arrays-\n",
      "[[2.33333333 2.16666667]\n",
      " [2.16666667 2.33333333]]\n",
      "==============================\n"
     ]
    }
   ],
   "source": [
    "x1 = np.array([0, 1, 3])\n",
    "x2 = np.array([2, 4, 5])\n",
    "cross_cov_mat = np.cov(x1, x2)\n",
    "\n",
    "print(\"=\"*30)\n",
    "print(f\"Original array1-\\n{x1}\")\n",
    "print(f\"\\nOriginal array2-\\n{x2}\")\n",
    "print(f\"\\nCovariance matrix of the said arrays-\\n{cross_cov_mat}\")\n",
    "print(\"=\"*30)"
   ]
  },
  {
   "cell_type": "markdown",
   "metadata": {},
   "source": [
    "***"
   ]
  },
  {
   "cell_type": "markdown",
   "metadata": {},
   "source": [
    "**Q98. Write the NumPy program to compute Pearson product-moment\n",
    "correlation coefficients of two given arrays?<br>\n",
    "Sample Output-**<br>\n",
    "Original array1-<br>\n",
    "[0 1 3]<br>\n",
    "Original array1-<br>\n",
    "[2 4 5]<br>\n",
    "Pearson product-moment correlation coefficients of the said arrays-<br>\n",
    "[[1. 0.92857143]<br>\n",
    "[0.92857143 1. ]]<br>\n"
   ]
  },
  {
   "cell_type": "code",
   "execution_count": 454,
   "metadata": {},
   "outputs": [
    {
     "name": "stdout",
     "output_type": "stream",
     "text": [
      "==============================\n",
      "Original array1-\n",
      "[0 1 3]\n",
      "\n",
      "Original array2-\n",
      "[2 4 5]\n",
      "\n",
      "Covariance matrix of the said arrays-\n",
      "[[1.         0.92857143]\n",
      " [0.92857143 1.        ]]\n",
      "==============================\n"
     ]
    }
   ],
   "source": [
    "x1 = np.array([0, 1, 3])\n",
    "x2 = np.array([2, 4, 5])\n",
    "pearson_corr = np.corrcoef(x1, x2)\n",
    "\n",
    "print(\"=\"*30)\n",
    "print(f\"Original array1-\\n{x1}\")\n",
    "print(f\"\\nOriginal array2-\\n{x2}\")\n",
    "print(f\"\\nCovariance matrix of the said arrays-\\n{pearson_corr}\")\n",
    "print(\"=\"*30)"
   ]
  },
  {
   "cell_type": "markdown",
   "metadata": {},
   "source": [
    "***"
   ]
  },
  {
   "cell_type": "markdown",
   "metadata": {},
   "source": [
    "**Q99. Write the python program to count the number of occurrences of\n",
    "each value in a given array of non-negative integers?**<br>\n",
    "Note: bincount() Function- It count the occurrence of each value in an array of the\n",
    "non- negative integers in the range of the array between the minimum and maximum values\n",
    "including the values that did not occur.<br>\n",
    "**Sample Output-**<br>\n",
    "Original array-<br>\n",
    "[0, 1, 6, 1, 4, 1, 2, 2, 7]<br>\n",
    "Number of occurrences of each value in array-<br>\n",
    "[1 3 2 0 1 0 1 1]<br>"
   ]
  },
  {
   "cell_type": "code",
   "execution_count": 458,
   "metadata": {},
   "outputs": [
    {
     "name": "stdout",
     "output_type": "stream",
     "text": [
      "==============================\n",
      "Orginal array-\n",
      "[0 1 6 1 4 1 2 2 7]\n",
      "\n",
      "Number of occurrences of each value in array-\n",
      "[1 3 2 0 1 0 1 1]\n",
      "==============================\n"
     ]
    }
   ],
   "source": [
    "original_array = np.array([0, 1, 6, 1, 4, 1, 2, 2, 7])\n",
    "output = np.bincount(original_array)\n",
    "\n",
    "print(\"=\"*30)\n",
    "print(f\"Orginal array-\\n{original_array}\")\n",
    "print(f\"\\nNumber of occurrences of each value in array-\\n{output}\")\n",
    "print(\"=\"*30)"
   ]
  },
  {
   "cell_type": "markdown",
   "metadata": {},
   "source": [
    "***"
   ]
  },
  {
   "cell_type": "markdown",
   "metadata": {},
   "source": [
    "**Q100. Write a Numpy program to compute the histogram of nums\n",
    "against the bins?<br>\n",
    "Sample Output-**<br>\n",
    "nums- [0.5 0.7 1. 1.2 1.3 2.1]<br>\n",
    "bins- [0 1 2 3]<br>\n",
    "Result- (array([2, 3, 1], dtype=int64), array([0, 1, 2, 3]))<br>"
   ]
  },
  {
   "cell_type": "code",
   "execution_count": 473,
   "metadata": {},
   "outputs": [
    {
     "name": "stdout",
     "output_type": "stream",
     "text": [
      "result-(array([2, 3, 1]), array([0, 1, 2, 3]))\n"
     ]
    },
    {
     "data": {
      "image/png": "[encoded data removed]",
      "text/plain": [
       "<Figure size 432x288 with 1 Axes>"
      ]
     },
     "metadata": {
      "needs_background": "light"
     },
     "output_type": "display_data"
    }
   ],
   "source": [
    "nums = np.array([0.5, 0.7, 1, 1.2, 1.3, 2.1], dtype=np.float16)\n",
    "bins = np.array([0, 1, 2, 3])\n",
    "\n",
    "h = np.histogram(nums, bins) # to compute histogram()\n",
    "print(f\"result-{h}\")\n",
    "plt.hist(nums, bins=bins);"
   ]
  },
  {
   "cell_type": "markdown",
   "metadata": {},
   "source": [
    "***"
   ]
  },
  {
   "cell_type": "markdown",
   "metadata": {},
   "source": [
    "**Q101. Write the Python program to add, subtract, multiply and divide\n",
    "two pandas series ?**<br>\n",
    "Sample Series- [2, 4, 6, 8, 10], [1, 3, 5, 7, 9]"
   ]
  },
  {
   "cell_type": "code",
   "execution_count": 480,
   "metadata": {},
   "outputs": [
    {
     "name": "stdout",
     "output_type": "stream",
     "text": [
      "==============================\n",
      "add:\n",
      "0     3\n",
      "1     7\n",
      "2    11\n",
      "3    15\n",
      "4    19\n",
      "dtype: int64\n",
      "\n",
      "subtract:\n",
      "0    1\n",
      "1    1\n",
      "2    1\n",
      "3    1\n",
      "4    1\n",
      "dtype: int64\n",
      "\n",
      "multiply:\n",
      "0     2\n",
      "1    12\n",
      "2    30\n",
      "3    56\n",
      "4    90\n",
      "dtype: int64\n",
      "\n",
      "divide:\n",
      "0    2.000000\n",
      "1    1.333333\n",
      "2    1.200000\n",
      "3    1.142857\n",
      "4    1.111111\n",
      "dtype: float64\n",
      "==============================\n"
     ]
    }
   ],
   "source": [
    "x = pd.Series(data=[2, 4, 6, 8, 10])\n",
    "y = pd.Series(data=[1, 3, 5, 7, 9])\n",
    "\n",
    "print(\"=\"*30)\n",
    "print(f\"add:\\n{x+y}\")\n",
    "print(f\"\\nsubtract:\\n{x-y}\")\n",
    "print(f\"\\nmultiply:\\n{x*y}\")\n",
    "print(f\"\\ndivide:\\n{x/y}\")\n",
    "print(\"=\"*30)"
   ]
  },
  {
   "cell_type": "markdown",
   "metadata": {},
   "source": [
    "***"
   ]
  },
  {
   "cell_type": "markdown",
   "metadata": {},
   "source": [
    "**Q102. Write a Python program to convert a dictionary to the Pandas\n",
    "Series?<br>\n",
    "Sample Series-**<br>\n",
    "Original dictionary-<br>\n",
    "{'a': 100, 'b': 200, 'c': 300, 'd': 400, 'e': 800}<br>\n",
    "Converted series -<br>\n",
    "a 100<br>\n",
    "b 200<br>\n",
    "c 300<br>\n",
    "d 400<br>\n",
    "e 800<br>\n",
    "dtype- int64<br>"
   ]
  },
  {
   "cell_type": "code",
   "execution_count": 491,
   "metadata": {},
   "outputs": [
    {
     "name": "stdout",
     "output_type": "stream",
     "text": [
      "==============================\n",
      "Original_dictionary-\n",
      "{'a': 100, 'b': 200, 'c': 300, 'd': 400, 'e': 800}\n",
      "\n",
      "Converted series:\n",
      "a    100\n",
      "b    200\n",
      "c    300\n",
      "d    400\n",
      "e    800\n",
      "dtype: int64\n",
      "==============================\n"
     ]
    }
   ],
   "source": [
    "original_dict = {'a': 100, 'b': 200, 'c': 300, 'd': 400, 'e': 800}\n",
    "dict_series = pd.Series(data=original_dict)\n",
    "\n",
    "print(\"=\"*30)\n",
    "print(f\"Original_dictionary-\\n{original_dict}\")\n",
    "print(f\"\\nConverted series:\\n{dict_series}\")\n",
    "print(\"=\"*30)"
   ]
  },
  {
   "cell_type": "markdown",
   "metadata": {},
   "source": [
    "***"
   ]
  },
  {
   "cell_type": "markdown",
   "metadata": {},
   "source": [
    "**Q103. Write a python program to change the data type of given a column or a Series?<br>\n",
    "Sample Series-**<br>\n",
    "Original Data Series-<br>\n",
    "0 100<br>\n",
    "1 200<br>\n",
    "2 python<br>\n",
    "3 300.12<br>\n",
    "4 400<br>\n",
    "dtype- object<br>\n",
    "Change the said data type to numeric-<br>\n",
    "0 100.00<br>\n",
    "1 200.00<br>\n",
    "2 NaN<br>\n",
    "3 300.12<br>\n",
    "4 400.00<br>\n",
    "dtype- float64<br>"
   ]
  },
  {
   "cell_type": "code",
   "execution_count": 503,
   "metadata": {},
   "outputs": [
    {
     "name": "stdout",
     "output_type": "stream",
     "text": [
      "==============================\n",
      "Original Data Series\n",
      " 0       100\n",
      "1       200\n",
      "2    python\n",
      "3    300.12\n",
      "4       400\n",
      "dtype: object\n",
      "\n",
      " Change the said data type to numeric-\n",
      "0    100.00\n",
      "1    200.00\n",
      "2       NaN\n",
      "3    300.12\n",
      "4    400.00\n",
      "dtype: float64\n",
      "==============================\n"
     ]
    }
   ],
   "source": [
    "original_series = pd.Series([100, 200, \"python\", 300.12, 400])\n",
    "modified = pd.to_numeric(original_series, errors=\"coerce\")\n",
    "print(\"=\"*30)\n",
    "print(f\"Original Data Series\\n {original_series}\")\n",
    "print(f\"\\n Change the said data type to numeric-\\n{modified}\")\n",
    "print(\"=\"*30)"
   ]
  },
  {
   "cell_type": "markdown",
   "metadata": {},
   "source": [
    "***"
   ]
  },
  {
   "cell_type": "markdown",
   "metadata": {},
   "source": [
    "**Q104. Write the python pandas program to convert the first column of a\n",
    "DataFrame as a Series?<br>\n",
    "Sample Output-**<br>\n",
    "Original DataFrame-<br>\n",
    "col1 col2 col3<br>\n",
    "0 1 4 7<br>\n",
    "1 2 5 5<br>\n",
    "2 3 6 8<br>\n",
    "3 4 9 12<br>\n",
    "4 7 5 1<br>\n",
    "5 11 0 11<br>\n",
    "1st column as a Series-<br>\n",
    "0 1<br>\n",
    "1 2<br>\n",
    "2 3<br>\n",
    "3 4<br>\n",
    "4 7<br>\n",
    "5 11<br>\n",
    "Name- col1, dtype- int64<br>\n",
    "<class 'pandas.core.series.Series'><br>"
   ]
  },
  {
   "cell_type": "code",
   "execution_count": 517,
   "metadata": {},
   "outputs": [
    {
     "name": "stdout",
     "output_type": "stream",
     "text": [
      "==============================\n",
      "Original DataFrame\n",
      "   col1  col2  col3\n",
      "0     1     4     7\n",
      "1     2     5     5\n",
      "2     3     6     8\n",
      "3     4     9    12\n",
      "4     7     5     1\n",
      "5    11     0    11\n",
      "\n",
      " 1st Column as a Series-\n",
      "0     1\n",
      "1     2\n",
      "2     3\n",
      "3     4\n",
      "4     7\n",
      "5    11\n",
      "Name: col1, dtype: int64\n",
      "==============================\n"
     ]
    }
   ],
   "source": [
    "original_dataframe = pd.DataFrame(data=[[1, 4, 7], [2, 5, 5], [3, 6,8],\n",
    "                                       [4, 9, 12], [7, 5, 1], [11, 0, 11]],columns=['col1', 'col2', 'col3'])\n",
    "original_series = original_dataframe.iloc[:,0]\n",
    "\n",
    "print(\"=\"*30)\n",
    "print(f\"Original DataFrame\\n{original_dataframe}\")\n",
    "print(f\"\\n 1st Column as a Series-\\n{original_series}\")\n",
    "print(\"=\"*30)"
   ]
  },
  {
   "cell_type": "markdown",
   "metadata": {},
   "source": [
    "***"
   ]
  },
  {
   "cell_type": "markdown",
   "metadata": {},
   "source": [
    "**Q105. Write a pandas program to create the mean and standard\n",
    "deviation of the data of a given Series?<br>\n",
    "Sample Output-**<br>\n",
    "Original Data Series-<br>\n",
    "0 1<br>\n",
    "1 2<br>\n",
    "2 3<br>\n",
    "3 4<br>\n",
    "4 5<br>\n",
    "5 6<br>\n",
    "6 7<br>\n",
    "7 8<br>\n",
    "8 9<br>\n",
    "9 5<br>\n",
    "10 3<br>\n",
    "dtype- int64<br>\n",
    "Mean of the said Data Series-<br>\n",
    "4.81818181818<br>\n",
    "Standard deviation of the said Data Series-<br>\n",
    "2.52262489555<br>"
   ]
  },
  {
   "cell_type": "code",
   "execution_count": 528,
   "metadata": {},
   "outputs": [
    {
     "name": "stdout",
     "output_type": "stream",
     "text": [
      "==============================\n",
      "Original Data Series\n",
      "0     1\n",
      "1     2\n",
      "2     3\n",
      "3     4\n",
      "4     5\n",
      "5     6\n",
      "6     7\n",
      "7     8\n",
      "8     9\n",
      "9     5\n",
      "10    3\n",
      "dtype: int64\n",
      "\n",
      "Mean of the said Data Series-\n",
      "4.818181818181818\n",
      "\n",
      "Standard deviation of the said Data Series-\n",
      "2.522624895547565\n",
      "==============================\n"
     ]
    }
   ],
   "source": [
    "original_series = pd.Series([1,2,3,4,5,6,7,8,9,5,3])\n",
    "mu = original_series.mean()\n",
    "sigma = original_series.std()\n",
    "\n",
    "print(\"=\"*30)\n",
    "print(f\"Original Data Series\\n{original_series}\")\n",
    "print(f\"\\nMean of the said Data Series-\\n{mu}\")\n",
    "print(f\"\\nStandard deviation of the said Data Series-\\n{sigma}\")\n",
    "print(\"=\"*30)"
   ]
  },
  {
   "cell_type": "markdown",
   "metadata": {},
   "source": [
    "***"
   ]
  },
  {
   "cell_type": "markdown",
   "metadata": {},
   "source": [
    "**Q106. Write a pandas program to get powers of an array values\n",
    "element-wise?**<br>\n",
    "Note First array elements raised the powers from the second array.<br>\n",
    "Sample data: {'X ':[78,85,96,80,86], ' Y ':[84,94,89,83,86],'Z':[86,97,96,72,83]}<br>\n",
    "Expected Output:<br>\n",
    "X Y Z<br>\n",
    "0 78 84 86<br>\n",
    "1 85 94 97<br>\n",
    "2 96 89 96<br>\n",
    "3 80 83 72<br>\n",
    "4 86 86 83<br>"
   ]
  },
  {
   "cell_type": "markdown",
   "metadata": {},
   "source": [
    "***"
   ]
  },
  {
   "cell_type": "markdown",
   "metadata": {},
   "source": [
    "**Q107. Write the pandas program to get the first 3 rows of a given DataFrame?**<br>\n",
    "Sample Python dictionary data and list labels-<br>\n",
    "exam_data = {'name': ['Anastasia', 'Dima', 'Katherine', 'James', 'Emily', 'Michael',\n",
    "'Matthew', 'Laura', 'Kevin', 'Jonas'],<br>\n",
    "'score': [12.5, 9, 16.5, np.nan, 9, 20, 14.5, np.nan, 8, 19],<br>\n",
    "'attempts'- [1, 3, 2, 3, 2, 3, 1, 1, 2, 1],<br>\n",
    "'qualify'- [ 'yes', 'no', 'yes' , 'no', ' no ', ' yes ', 'yes', 'no', 'no', 'yes' ] }<br>\n",
    "labels = ['a', 'b', 'c', 'd', 'e', 'f', 'g', 'h', 'i', 'j' ]<br>\n",
    "Expected Output-<br>\n",
    "First three rows of the data frame-<br>\n",
    "attempts name qualify score<br>\n",
    "a 1 Anastasia yes 12.5<br>\n",
    "b 3 Dima no 9.0<br>\n",
    "c 2 Katherine yes 16.5<br>"
   ]
  },
  {
   "cell_type": "code",
   "execution_count": 535,
   "metadata": {},
   "outputs": [
    {
     "name": "stdout",
     "output_type": "stream",
     "text": [
      "==============================\n",
      "Output\n",
      "\n",
      "First three rows of the data frame-\n",
      "\n",
      "        name  score  attempts qualify\n",
      "a  Anastasia   12.5         1     yes\n",
      "b       Dima    9.0         3      no\n",
      "c  Katherine   16.5         2     yes\n",
      "==============================\n"
     ]
    }
   ],
   "source": [
    "exam_data = {'name': ['Anastasia', 'Dima', 'Katherine', 'James', 'Emily', 'Michael', 'Matthew', 'Laura', 'Kevin', 'Jonas'],\n",
    "'score': [12.5, 9, 16.5, np.nan, 9, 20, 14.5, np.nan, 8, 19],\n",
    "'attempts': [1, 3, 2, 3, 2, 3, 1, 1, 2, 1],\n",
    "'qualify': [ 'yes', 'no', 'yes' , 'no', ' no ', ' yes ', 'yes', 'no', 'no', 'yes' ] }\n",
    "labels = ['a', 'b', 'c', 'd', 'e', 'f', 'g', 'h', 'i', 'j' ]\n",
    "\n",
    "df = pd.DataFrame(exam_data, index=labels)\n",
    "\n",
    "print(\"=\"*30)\n",
    "print(\"Output\\n\")\n",
    "print(\"First three rows of the data frame-\\n\")\n",
    "print(df.iloc[:3,:])\n",
    "print(\"=\"*30)"
   ]
  },
  {
   "cell_type": "markdown",
   "metadata": {},
   "source": [
    "***"
   ]
  },
  {
   "cell_type": "markdown",
   "metadata": {},
   "source": [
    "**Q108: Write the pandas program to select the specified columns and\n",
    "the rows from a given data frame?<br>\n",
    "Sample Python dictionary data and list labels-<br>\n",
    "Select 'name' and 'score' columns in rows 1, 3, 5, 6 from the following data frame.**<br>\n",
    "exam_data = {'name ': [ 'Anastasia', 'Dima', 'Katherine', 'James', 'Emily', 'Michael',<br>\n",
    "'Matthew', 'Laura', 'Kevin', 'Jonas'],<br>\n",
    "'score'- [12.5, 9, 16.5, np.nan, 9, 20, 14.5, np.nan, 8, 19],<br>\n",
    "'attempts'- [1, 3, 2, 3, 2, 3, 1, 1, 2, 1],<br>\n",
    "'qualify'- ['yes', 'no', 'yes', 'no', 'no', 'yes', 'yes', 'no', 'no', 'yes'] }<br>\n",
    "labels = ['a ', ' b ', ' c ', ' d ', ' e ', ' f ', ' g ', 'h', 'i', 'j']<br>\n",
    "Expected Output-<br>\n",
    "Select specific columns and rows-<br>\n",
    "name score<br>\n",
    "b Dima 9.0<br>\n",
    "d James NaN<br>\n",
    "f Michael 20.0<br>\n",
    "g Matthew 14.5<br>"
   ]
  },
  {
   "cell_type": "code",
   "execution_count": 538,
   "metadata": {},
   "outputs": [
    {
     "name": "stdout",
     "output_type": "stream",
     "text": [
      "==============================\n",
      "Output\n",
      "Select specific columns and rows-name score\n",
      "\n",
      "      name  score\n",
      "b     Dima    9.0\n",
      "d    James    NaN\n",
      "f  Michael   20.0\n",
      "g  Matthew   14.5\n",
      "==============================\n"
     ]
    }
   ],
   "source": [
    "exam_data = {'name': ['Anastasia', 'Dima', 'Katherine', 'James', 'Emily', 'Michael', 'Matthew', \n",
    "                      'Laura', 'Kevin', 'Jonas'],\n",
    "'score': [12.5, 9, 16.5, np.nan, 9, 20, 14.5, np.nan, 8, 19],\n",
    "'attempts': [1, 3, 2, 3, 2, 3, 1, 1, 2, 1],\n",
    "'qualify': [ 'yes', 'no', 'yes' , 'no', ' no ', ' yes ', 'yes', 'no', 'no', 'yes' ] }\n",
    "labels = ['a', 'b', 'c', 'd', 'e', 'f', 'g', 'h', 'i', 'j' ]\n",
    "\n",
    "df = pd.DataFrame(exam_data, index=labels)\n",
    "\n",
    "print(\"=\"*30)\n",
    "print(\"Output\")\n",
    "print(\"Select specific columns and rows-name score\\n\")\n",
    "print(df.iloc[[1,3,5,6],[0,1]])\n",
    "print(\"=\"*30)"
   ]
  },
  {
   "cell_type": "markdown",
   "metadata": {},
   "source": [
    "***"
   ]
  },
  {
   "cell_type": "markdown",
   "metadata": {},
   "source": [
    "**Q109. Write the pandas program to calculate mean score for each\n",
    "different student in DataFrame?<br>\n",
    "Sample Python dictionary data and list labels-**<br>\n",
    "exam_data = {'name': ['Anastasia', 'Dima', 'Katherine', 'James', 'Emily', 'Michael',\n",
    "'Matthew', 'Laura', 'Kevin', 'Jonas'],<br>\n",
    "'score': [12.5, 9, 16.5, np.nan, 9, 20, 14.5, np.nan, 8, 19],<br>\n",
    "'attempts'- [1, 3, 2, 3, 2, 3, 1, 1, 2, 1],<br>\n",
    "'qualify'- ['yes', 'no', ' yes ', ' no ', ' no ', ' yes ', ' yes ', ' no ', ' no ', ' yes '] }<br>\n",
    "labels = ['a', 'b', 'c', 'd', 'e', 'f', 'g', 'h', 'i', 'j']<br>\n",
    "Expected Output-<br>\n",
    "Mean score for each different student in data frame:<br>\n",
    "13.5625<br>"
   ]
  },
  {
   "cell_type": "code",
   "execution_count": 540,
   "metadata": {},
   "outputs": [
    {
     "name": "stdout",
     "output_type": "stream",
     "text": [
      "==============================\n",
      "Output\n",
      "Mean score for each different student in data frame:\n",
      "\n",
      "13.5625\n",
      "==============================\n"
     ]
    }
   ],
   "source": [
    "exam_data = {'name': ['Anastasia', 'Dima', 'Katherine', 'James', 'Emily', 'Michael', 'Matthew', \n",
    "                      'Laura', 'Kevin', 'Jonas'],\n",
    "'score': [12.5, 9, 16.5, np.nan, 9, 20, 14.5, np.nan, 8, 19],\n",
    "'attempts': [1, 3, 2, 3, 2, 3, 1, 1, 2, 1],\n",
    "'qualify': [ 'yes', 'no', 'yes' , 'no', ' no ', ' yes ', 'yes', 'no', 'no', 'yes' ] }\n",
    "labels = ['a', 'b', 'c', 'd', 'e', 'f', 'g', 'h', 'i', 'j' ]\n",
    "\n",
    "df = pd.DataFrame(exam_data, index=labels)\n",
    "\n",
    "print(\"=\"*30)\n",
    "print(\"Output\")\n",
    "print(\"Mean score for each different student in data frame:\\n\")\n",
    "print(df['score'].mean())\n",
    "print(\"=\"*30)"
   ]
  },
  {
   "cell_type": "markdown",
   "metadata": {},
   "source": [
    "***"
   ]
  },
  {
   "cell_type": "markdown",
   "metadata": {},
   "source": [
    "**Q110. Write the Pandas program to rename columns of a given DataFrame ?<br>\n",
    "Sample data-**<br>\n",
    "Original data frame<br>\n",
    "col1 col2 col3<br>\n",
    "0 1 4 7<br>\n",
    "1 2 5 8<br>\n",
    "2 3 6 9<br>\n",
    "New data frame after renaming columns:<br>\n",
    "Column1 Column2 Column3<br>\n",
    "0 1 4 7<br>\n",
    "1 2 5 8<br>\n",
    "2 3 6 9<br>"
   ]
  },
  {
   "cell_type": "code",
   "execution_count": null,
   "metadata": {},
   "outputs": [],
   "source": [
    "pd.DataFrame(data = [[1, 4, 7], [2, 5, 8], [3, 6, 9]], )"
   ]
  }
 ],
 "metadata": {
  "kernelspec": {
   "display_name": "Python 3",
   "language": "python",
   "name": "python3"
  },
  "language_info": {
   "codemirror_mode": {
    "name": "ipython",
    "version": 3
   },
   "file_extension": ".py",
   "mimetype": "text/x-python",
   "name": "python",
   "nbconvert_exporter": "python",
   "pygments_lexer": "ipython3",
   "version": "3.7.4"
  }
 },
 "nbformat": 4,
 "nbformat_minor": 4
}
