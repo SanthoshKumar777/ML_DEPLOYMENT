{
 "cells": [
  {
   "cell_type": "markdown",
   "metadata": {},
   "source": [
    "# Task 1"
   ]
  },
  {
   "cell_type": "markdown",
   "metadata": {},
   "source": [
    "**1.Write a function to compute 5/0 and use try/except to catch the exceptions.**\n"
   ]
  },
  {
   "cell_type": "code",
   "execution_count": 4,
   "metadata": {},
   "outputs": [
    {
     "name": "stdout",
     "output_type": "stream",
     "text": [
      "case 1: a={a}, b={b}\n",
      "\n",
      "Zeo division error! b can't be zero\n",
      "None\n",
      "\n",
      "\n",
      "case 2: a={a}, b={b}\n",
      "\n",
      "Type error! please check input types\n",
      "None\n"
     ]
    }
   ],
   "source": [
    "def a_dived_by_b(a,b):\n",
    "    try:\n",
    "        result = a/b\n",
    "        return result\n",
    "    except ZeroDivisionError:\n",
    "        print(\"Zeo division error! b can't be zero\")\n",
    "    except TypeError:\n",
    "        print(\"Type error! please check input types\")\n",
    "    except:\n",
    "        print(\"undefined error!\")\n",
    "a=5; b=0\n",
    "print(\"case 1: a={a}, b={b}\\n\")\n",
    "print(a_dived_by_b(a,b))\n",
    "print(\"\\n\")\n",
    "a=5; b='a'\n",
    "print(\"case 2: a={a}, b={b}\\n\")\n",
    "print(a_dived_by_b(5, str(2)))"
   ]
  },
  {
   "cell_type": "markdown",
   "metadata": {},
   "source": [
    "***"
   ]
  },
  {
   "cell_type": "markdown",
   "metadata": {},
   "source": [
    "**2.Implement a Python program to generate all sentences where subject is in <br>\n",
    "[\"Americans\",\"Indians\"] and verb is in [\"Play\", \"watch\"] and the object is in [\"Baseball\",\"cricket\"].<br>\n",
    "Hint: Subject,Verb and Object should be declared in the program as shown below.**<br>\n",
    "subjects=[\"Americans \",\"Indians\"]<br>\n",
    "verbs=[\"play\",\"watch\"]<br>\n",
    "objects=[\"Baseball\",\"Cricket\"]<br>\n",
    "\n",
    "**Output should come as below:**<br>\n",
    "Americans play Baseball.<br>\n",
    "Americans play Cricket.<br>\n",
    "Americans watch Baseball.<br>\n",
    "Americans watch Cricket.<br>\n",
    "Indians play Baseball.<br>\n",
    "Indians play Cricket.<br>\n",
    "Indians watch Baseball.<br>\n",
    "Indians watch Cricket.<br>\n"
   ]
  },
  {
   "cell_type": "code",
   "execution_count": 47,
   "metadata": {},
   "outputs": [
    {
     "name": "stdout",
     "output_type": "stream",
     "text": [
      "Americans play Baseball\n",
      "Americans play Cricket\n",
      "Americans watch Baseball\n",
      "Americans watch Cricket\n",
      "Indians play Baseball\n",
      "Indians play Cricket\n",
      "Indians watch Baseball\n",
      "Indians watch Cricket\n"
     ]
    }
   ],
   "source": [
    "subjects = [\"Americans\", \"Indians\"]\n",
    "verbs = [\"play\", \"watch\"]\n",
    "objects = [\"Baseball\", \"Cricket\"]\n",
    "sentences = [i+\" \"+j+\" \"+k for i in subjects for j in verbs for k in objects]\n",
    "for sentence in sentences:\n",
    "    print(sentence)"
   ]
  },
  {
   "cell_type": "markdown",
   "metadata": {},
   "source": [
    "***"
   ]
  },
  {
   "cell_type": "markdown",
   "metadata": {},
   "source": [
    "# Task 2"
   ]
  },
  {
   "cell_type": "markdown",
   "metadata": {},
   "source": [
    "**1.Write a function so that the columns of the output matrix are powers of the input vector.\n",
    "The order of the powers is determined by the increasing boolean argument. Specifically, when\n",
    "increasing is False, the i-th output column is the input vector raised element-wise to the power\n",
    "of N - i - 1.**<br>\n",
    "HINT: Such a matrix with a geometric progression in each row is named for Alexandre-\n",
    "Theophile Vandermonde."
   ]
  },
  {
   "cell_type": "code",
   "execution_count": 7,
   "metadata": {},
   "outputs": [
    {
     "name": "stdout",
     "output_type": "stream",
     "text": [
      "\n",
      " Enter input vector:\t1 2 3 4 5 6 7\n",
      "\n",
      " Enter the power:\t 7\n",
      "============================================================\n",
      "\n",
      "Alexandre- Theophile Vandermonde matrix:\n",
      "\n",
      "1\t1\t1\t1\t1\t1\t1\n",
      "64\t32\t16\t8\t4\t2\t1\n",
      "729\t243\t81\t27\t9\t3\t1\n",
      "4096\t1024\t256\t64\t16\t4\t1\n",
      "15625\t3125\t625\t125\t25\t5\t1\n",
      "46656\t7776\t1296\t216\t36\t6\t1\n",
      "117649\t16807\t2401\t343\t49\t7\t1\n"
     ]
    }
   ],
   "source": [
    "def powers_of_matrix(vector, power):\n",
    "    return  [[ele**i for i in range(power-1,-1, -1)] for ele in vector]\n",
    " \n",
    "\n",
    "input_vector = input(\"\\n Enter input vector:\\t\")\n",
    "vector = [int(i) for i in input_vector.split(' ')]\n",
    "power = int(input(\"\\n Enter the power:\\t \"))\n",
    "output = powers_of_matrix(vector, power)\n",
    "print(\"=\"*60)\n",
    "print(\"\\nAlexandre- Theophile Vandermonde matrix:\\n\")\n",
    "print(\"\\n\".join([\"\\t\".join([str(ele) for ele in row]) for row in output ]))"
   ]
  },
  {
   "cell_type": "code",
   "execution_count": null,
   "metadata": {},
   "outputs": [],
   "source": []
  }
 ],
 "metadata": {
  "kernelspec": {
   "display_name": "Python 3",
   "language": "python",
   "name": "python3"
  },
  "language_info": {
   "codemirror_mode": {
    "name": "ipython",
    "version": 3
   },
   "file_extension": ".py",
   "mimetype": "text/x-python",
   "name": "python",
   "nbconvert_exporter": "python",
   "pygments_lexer": "ipython3",
   "version": "3.7.4"
  }
 },
 "nbformat": 4,
 "nbformat_minor": 2
}
